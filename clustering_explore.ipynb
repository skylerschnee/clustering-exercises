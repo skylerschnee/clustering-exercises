{
 "cells": [
  {
   "cell_type": "markdown",
   "id": "9ae1c5b1",
   "metadata": {},
   "source": [
    "# Exploration Lesson"
   ]
  },
  {
   "cell_type": "markdown",
   "id": "baf632cb",
   "metadata": {},
   "source": [
    "### Goals:"
   ]
  },
  {
   "cell_type": "markdown",
   "id": "b69ec506",
   "metadata": {},
   "source": [
    "- Can we see patterns, find signals in the data?\n",
    "\n",
    "- What features are driving the outcome?\n",
    "\n",
    "- Are there other features we can construct that have stronger relationships?\n",
    "\n",
    "- Use visualization and statistical testing to help answer these questions.\n",
    "\n",
    "- We want to walk away from exploration with with modeling strategies (feature selection, algorithm selection, evaluation methods)."
   ]
  },
  {
   "cell_type": "markdown",
   "id": "03a4bd2c",
   "metadata": {},
   "source": [
    "### Scenario:"
   ]
  },
  {
   "cell_type": "markdown",
   "id": "fc537c13-2f57-4211-8d05-44cb9c3402e7",
   "metadata": {},
   "source": [
    "Scenario A: We leverage customer data to try to predict a customer score (y as spending score)\n",
    "Scenario B: We leverage customer data including a predetermined spending score in order to observe customer segments that will likely tell us more in regard to how these customers shop and how we may advertise to them"
   ]
  },
  {
   "cell_type": "markdown",
   "id": "8d7518f5",
   "metadata": {},
   "source": [
    "We would like to be able to use attributes of customers to determine their customer segment. In doing so, we can target those customers that are likely to be most profitable for us. Currently the only customer data we have available to use in this project is age, annual_income, spending_score and gender. It is possible we may not have enough information to build a valuable model. If not, maybe we could do some unsupervised learning, and find clusters of similar customers using all of the variables (including spending_score) and that could help us with a starting point for our targeted marketing."
   ]
  },
  {
   "cell_type": "code",
   "execution_count": 2,
   "id": "cf62e511",
   "metadata": {},
   "outputs": [],
   "source": [
    "#standard ds\n",
    "import pandas as pd\n",
    "import numpy as np\n",
    "\n",
    "#viz and stats\n",
    "import seaborn as sns\n",
    "import matplotlib.pyplot as plt\n",
    "from scipy import stats\n",
    "\n",
    "#splits, scale\n",
    "from sklearn.model_selection import train_test_split\n",
    "from sklearn.preprocessing import MinMaxScaler\n",
    "\n",
    "#my env file\n",
    "import env"
   ]
  },
  {
   "cell_type": "markdown",
   "id": "2d4bcd25",
   "metadata": {},
   "source": [
    "## Acquire!"
   ]
  },
  {
   "cell_type": "code",
   "execution_count": 5,
   "id": "c25428dc-5f3b-4362-8359-7bce69877520",
   "metadata": {},
   "outputs": [],
   "source": [
    "url = f'mysql+pymysql://{env.user}:{env.password}@{env.host}/mall_customers'"
   ]
  },
  {
   "cell_type": "code",
   "execution_count": 8,
   "id": "459eb6dc-f9d0-427a-96c7-42833fb54df0",
   "metadata": {},
   "outputs": [],
   "source": [
    "df = pd.read_sql('SELECT * FROM customers;',con=url)"
   ]
  },
  {
   "cell_type": "code",
   "execution_count": 10,
   "id": "d18fb71d-42c6-4b37-98bc-1c68d9576227",
   "metadata": {},
   "outputs": [
    {
     "data": {
      "text/html": [
       "<div>\n",
       "<style scoped>\n",
       "    .dataframe tbody tr th:only-of-type {\n",
       "        vertical-align: middle;\n",
       "    }\n",
       "\n",
       "    .dataframe tbody tr th {\n",
       "        vertical-align: top;\n",
       "    }\n",
       "\n",
       "    .dataframe thead th {\n",
       "        text-align: right;\n",
       "    }\n",
       "</style>\n",
       "<table border=\"1\" class=\"dataframe\">\n",
       "  <thead>\n",
       "    <tr style=\"text-align: right;\">\n",
       "      <th></th>\n",
       "      <th>gender</th>\n",
       "      <th>age</th>\n",
       "      <th>annual_income</th>\n",
       "      <th>spending_score</th>\n",
       "    </tr>\n",
       "    <tr>\n",
       "      <th>customer_id</th>\n",
       "      <th></th>\n",
       "      <th></th>\n",
       "      <th></th>\n",
       "      <th></th>\n",
       "    </tr>\n",
       "  </thead>\n",
       "  <tbody>\n",
       "    <tr>\n",
       "      <th>1</th>\n",
       "      <td>Male</td>\n",
       "      <td>19</td>\n",
       "      <td>15</td>\n",
       "      <td>39</td>\n",
       "    </tr>\n",
       "    <tr>\n",
       "      <th>2</th>\n",
       "      <td>Male</td>\n",
       "      <td>21</td>\n",
       "      <td>15</td>\n",
       "      <td>81</td>\n",
       "    </tr>\n",
       "    <tr>\n",
       "      <th>3</th>\n",
       "      <td>Female</td>\n",
       "      <td>20</td>\n",
       "      <td>16</td>\n",
       "      <td>6</td>\n",
       "    </tr>\n",
       "    <tr>\n",
       "      <th>4</th>\n",
       "      <td>Female</td>\n",
       "      <td>23</td>\n",
       "      <td>16</td>\n",
       "      <td>77</td>\n",
       "    </tr>\n",
       "    <tr>\n",
       "      <th>5</th>\n",
       "      <td>Female</td>\n",
       "      <td>31</td>\n",
       "      <td>17</td>\n",
       "      <td>40</td>\n",
       "    </tr>\n",
       "  </tbody>\n",
       "</table>\n",
       "</div>"
      ],
      "text/plain": [
       "             gender  age  annual_income  spending_score\n",
       "customer_id                                            \n",
       "1              Male   19             15              39\n",
       "2              Male   21             15              81\n",
       "3            Female   20             16               6\n",
       "4            Female   23             16              77\n",
       "5            Female   31             17              40"
      ]
     },
     "execution_count": 10,
     "metadata": {},
     "output_type": "execute_result"
    }
   ],
   "source": [
    "# lets keep customer id despite its essentially arbitrary nature by \n",
    "# setting as the primary key/index of our df\n",
    "df = df.set_index('customer_id')\n",
    "df.head()"
   ]
  },
  {
   "cell_type": "code",
   "execution_count": null,
   "id": "7f851b9c",
   "metadata": {},
   "outputs": [],
   "source": [
    "df.info()"
   ]
  },
  {
   "cell_type": "markdown",
   "id": "c1752056",
   "metadata": {},
   "source": [
    "## Prepare!"
   ]
  },
  {
   "cell_type": "code",
   "execution_count": 11,
   "id": "caf97d62",
   "metadata": {},
   "outputs": [],
   "source": [
    "def train_validate_test_split(df, target, seed=123):\n",
    "    '''\n",
    "    This function takes in a dataframe and splits the data into train, validate and test. \n",
    "    '''\n",
    "    train_validate, test = train_test_split(df, test_size=0.2, random_state=seed)\n",
    "    \n",
    "    train, validate = train_test_split(train_validate, test_size=0.3, random_state=seed)\n",
    "    return train, validate, test"
   ]
  },
  {
   "cell_type": "code",
   "execution_count": 12,
   "id": "682315c0",
   "metadata": {},
   "outputs": [],
   "source": [
    "def scale_my_data(train, validate, test):\n",
    "    '''\n",
    "    scale my data using minmaxscaler and add it back to my input datasets\n",
    "    '''\n",
    "    scaler = MinMaxScaler()\n",
    "    scaler.fit(train[['age', 'annual_income']])\n",
    "    \n",
    "    X_train_scaled = scaler.transform(train[['age', 'annual_income']])\n",
    "    X_validate_scaled = scaler.transform(validate[['age', 'annual_income']])\n",
    "    X_test_scaled = scaler.transform(test[['age', 'annual_income']])\n",
    "\n",
    "    train[['age_scaled', 'annual_income_scaled']] = X_train_scaled\n",
    "    validate[['age_scaled', 'annual_income_scaled']] = X_validate_scaled\n",
    "    test[['age_scaled', 'annual_income_scaled']] = X_test_scaled\n",
    "    return train, validate, test"
   ]
  },
  {
   "cell_type": "code",
   "execution_count": 17,
   "id": "59e86062-ef7a-4623-a2ed-fa4a6d4db02a",
   "metadata": {},
   "outputs": [
    {
     "data": {
      "text/plain": [
       "customer_id\n",
       "1      1\n",
       "2      1\n",
       "3      0\n",
       "4      0\n",
       "5      0\n",
       "      ..\n",
       "196    0\n",
       "197    0\n",
       "198    1\n",
       "199    1\n",
       "200    1\n",
       "Name: Male, Length: 200, dtype: uint8"
      ]
     },
     "execution_count": 17,
     "metadata": {},
     "output_type": "execute_result"
    }
   ],
   "source": [
    "pd.get_dummies(df['gender'], drop_first=True)['Male']"
   ]
  },
  {
   "cell_type": "code",
   "execution_count": 13,
   "id": "3843b31c",
   "metadata": {},
   "outputs": [],
   "source": [
    "def prep_mall(df):\n",
    "    '''\n",
    "    dummy var for gender into is_male\n",
    "    split on target of 'spending_score'\n",
    "    scale age and annual income. \n",
    "    '''\n",
    "    df['is_male'] = pd.get_dummies(df['gender'], drop_first=True)['Male']\n",
    "    train, validate, test = train_validate_test_split(df, target='spending_score', seed=1349)\n",
    "    train, validate, test = scale_my_data(train, validate, test)\n",
    "    \n",
    "    print(f'df: {df.shape}')\n",
    "    print()\n",
    "    print(f'train: {train.shape}')\n",
    "    print(f'validate: {validate.shape}')\n",
    "    print(f'test: {test.shape}')\n",
    "    return df, train, validate, test"
   ]
  },
  {
   "cell_type": "code",
   "execution_count": 18,
   "id": "902e0871",
   "metadata": {},
   "outputs": [
    {
     "name": "stdout",
     "output_type": "stream",
     "text": [
      "df: (200, 5)\n",
      "\n",
      "train: (112, 7)\n",
      "validate: (48, 7)\n",
      "test: (40, 7)\n"
     ]
    },
    {
     "name": "stderr",
     "output_type": "stream",
     "text": [
      "<ipython-input-12-1bbd939385e3>:14: SettingWithCopyWarning: \n",
      "A value is trying to be set on a copy of a slice from a DataFrame.\n",
      "Try using .loc[row_indexer,col_indexer] = value instead\n",
      "\n",
      "See the caveats in the documentation: https://pandas.pydata.org/pandas-docs/stable/user_guide/indexing.html#returning-a-view-versus-a-copy\n",
      "  test[['age_scaled', 'annual_income_scaled']] = X_test_scaled\n",
      "/opt/homebrew/anaconda3/envs/homebase/lib/python3.9/site-packages/pandas/core/indexing.py:1738: SettingWithCopyWarning: \n",
      "A value is trying to be set on a copy of a slice from a DataFrame.\n",
      "Try using .loc[row_indexer,col_indexer] = value instead\n",
      "\n",
      "See the caveats in the documentation: https://pandas.pydata.org/pandas-docs/stable/user_guide/indexing.html#returning-a-view-versus-a-copy\n",
      "  self._setitem_single_column(loc, value[:, i].tolist(), pi)\n"
     ]
    }
   ],
   "source": [
    "df, train, validate, test = prep_mall(df)"
   ]
  },
  {
   "cell_type": "code",
   "execution_count": 15,
   "id": "8e194a06",
   "metadata": {},
   "outputs": [
    {
     "data": {
      "text/html": [
       "<div>\n",
       "<style scoped>\n",
       "    .dataframe tbody tr th:only-of-type {\n",
       "        vertical-align: middle;\n",
       "    }\n",
       "\n",
       "    .dataframe tbody tr th {\n",
       "        vertical-align: top;\n",
       "    }\n",
       "\n",
       "    .dataframe thead th {\n",
       "        text-align: right;\n",
       "    }\n",
       "</style>\n",
       "<table border=\"1\" class=\"dataframe\">\n",
       "  <thead>\n",
       "    <tr style=\"text-align: right;\">\n",
       "      <th></th>\n",
       "      <th>gender</th>\n",
       "      <th>age</th>\n",
       "      <th>annual_income</th>\n",
       "      <th>spending_score</th>\n",
       "      <th>is_male</th>\n",
       "      <th>age_scaled</th>\n",
       "      <th>annual_income_scaled</th>\n",
       "    </tr>\n",
       "    <tr>\n",
       "      <th>customer_id</th>\n",
       "      <th></th>\n",
       "      <th></th>\n",
       "      <th></th>\n",
       "      <th></th>\n",
       "      <th></th>\n",
       "      <th></th>\n",
       "      <th></th>\n",
       "    </tr>\n",
       "  </thead>\n",
       "  <tbody>\n",
       "    <tr>\n",
       "      <th>27</th>\n",
       "      <td>Female</td>\n",
       "      <td>45</td>\n",
       "      <td>28</td>\n",
       "      <td>32</td>\n",
       "      <td>0</td>\n",
       "      <td>0.519231</td>\n",
       "      <td>0.106557</td>\n",
       "    </tr>\n",
       "    <tr>\n",
       "      <th>24</th>\n",
       "      <td>Male</td>\n",
       "      <td>31</td>\n",
       "      <td>25</td>\n",
       "      <td>73</td>\n",
       "      <td>1</td>\n",
       "      <td>0.250000</td>\n",
       "      <td>0.081967</td>\n",
       "    </tr>\n",
       "    <tr>\n",
       "      <th>40</th>\n",
       "      <td>Female</td>\n",
       "      <td>20</td>\n",
       "      <td>37</td>\n",
       "      <td>75</td>\n",
       "      <td>0</td>\n",
       "      <td>0.038462</td>\n",
       "      <td>0.180328</td>\n",
       "    </tr>\n",
       "    <tr>\n",
       "      <th>38</th>\n",
       "      <td>Female</td>\n",
       "      <td>30</td>\n",
       "      <td>34</td>\n",
       "      <td>73</td>\n",
       "      <td>0</td>\n",
       "      <td>0.230769</td>\n",
       "      <td>0.155738</td>\n",
       "    </tr>\n",
       "    <tr>\n",
       "      <th>57</th>\n",
       "      <td>Female</td>\n",
       "      <td>51</td>\n",
       "      <td>44</td>\n",
       "      <td>50</td>\n",
       "      <td>0</td>\n",
       "      <td>0.634615</td>\n",
       "      <td>0.237705</td>\n",
       "    </tr>\n",
       "  </tbody>\n",
       "</table>\n",
       "</div>"
      ],
      "text/plain": [
       "             gender  age  annual_income  spending_score  is_male  age_scaled  \\\n",
       "customer_id                                                                    \n",
       "27           Female   45             28              32        0    0.519231   \n",
       "24             Male   31             25              73        1    0.250000   \n",
       "40           Female   20             37              75        0    0.038462   \n",
       "38           Female   30             34              73        0    0.230769   \n",
       "57           Female   51             44              50        0    0.634615   \n",
       "\n",
       "             annual_income_scaled  \n",
       "customer_id                        \n",
       "27                       0.106557  \n",
       "24                       0.081967  \n",
       "40                       0.180328  \n",
       "38                       0.155738  \n",
       "57                       0.237705  "
      ]
     },
     "execution_count": 15,
     "metadata": {},
     "output_type": "execute_result"
    }
   ],
   "source": [
    "train.head()"
   ]
  },
  {
   "cell_type": "markdown",
   "id": "7aae8882",
   "metadata": {},
   "source": [
    "## Explore!"
   ]
  },
  {
   "cell_type": "markdown",
   "id": "cacd05b0",
   "metadata": {},
   "source": [
    "1. Ask your question\n",
    "\n",
    "2. Vizualize it\n",
    "\n",
    "3. Perform a stats test, if needed\n",
    "\n",
    "4. Write your takeaway"
   ]
  },
  {
   "cell_type": "markdown",
   "id": "4186cacc",
   "metadata": {},
   "source": [
    "### Q1. What is the distribution of each variable?"
   ]
  },
  {
   "cell_type": "markdown",
   "id": "8a82a8a2",
   "metadata": {},
   "source": [
    "Since I'm doing at univariate exploration, I can use the original dataset."
   ]
  },
  {
   "cell_type": "code",
   "execution_count": 19,
   "id": "323a6b0c",
   "metadata": {},
   "outputs": [
    {
     "data": {
      "text/plain": [
       "Index(['gender', 'age', 'annual_income', 'spending_score', 'is_male'], dtype='object')"
      ]
     },
     "execution_count": 19,
     "metadata": {},
     "output_type": "execute_result"
    }
   ],
   "source": [
    "df.columns"
   ]
  },
  {
   "cell_type": "code",
   "execution_count": 21,
   "id": "b49c6132-26b7-470d-acdf-214da00ce593",
   "metadata": {},
   "outputs": [
    {
     "data": {
      "image/png": "[encoded data removed]",
      "text/plain": [
       "<Figure size 432x288 with 1 Axes>"
      ]
     },
     "metadata": {
      "needs_background": "light"
     },
     "output_type": "display_data"
    },
    {
     "data": {
      "image/png": "[encoded data removed]",
      "text/plain": [
       "<Figure size 432x288 with 1 Axes>"
      ]
     },
     "metadata": {
      "needs_background": "light"
     },
     "output_type": "display_data"
    },
    {
     "data": {
      "image/png": "[encoded data removed]",
      "text/plain": [
       "<Figure size 432x288 with 1 Axes>"
      ]
     },
     "metadata": {
      "needs_background": "light"
     },
     "output_type": "display_data"
    },
    {
     "data": {
      "image/png": "[encoded data removed]",
      "text/plain": [
       "<Figure size 432x288 with 1 Axes>"
      ]
     },
     "metadata": {
      "needs_background": "light"
     },
     "output_type": "display_data"
    }
   ],
   "source": [
    "for col in df.columns[:-1]:\n",
    "    df[col].hist()\n",
    "    plt.title(f'Distribution of {col}')\n",
    "    plt.show()"
   ]
  },
  {
   "cell_type": "markdown",
   "id": "30e38f2e",
   "metadata": {},
   "source": [
    "#### Takeaways"
   ]
  },
  {
   "cell_type": "markdown",
   "id": "60c1f9f9",
   "metadata": {},
   "source": [
    "- slight, but not string inbalance in gender\n",
    "- age and annual_income is right skewed\n",
    "- I may already have an idea of how our customers are segmented\n",
    "- based on the spending score distribution which is normal-ish, but seems to have several \"lumps\" or modes\n",
    "\n",
    "Note: I care about distributions for the stats test"
   ]
  },
  {
   "cell_type": "markdown",
   "id": "a9ce654e",
   "metadata": {},
   "source": [
    "### Q2. Does the spending score differ across gender?"
   ]
  },
  {
   "cell_type": "code",
   "execution_count": 22,
   "id": "27df7693",
   "metadata": {},
   "outputs": [
    {
     "data": {
      "text/html": [
       "<div>\n",
       "<style scoped>\n",
       "    .dataframe tbody tr th:only-of-type {\n",
       "        vertical-align: middle;\n",
       "    }\n",
       "\n",
       "    .dataframe tbody tr th {\n",
       "        vertical-align: top;\n",
       "    }\n",
       "\n",
       "    .dataframe thead th {\n",
       "        text-align: right;\n",
       "    }\n",
       "</style>\n",
       "<table border=\"1\" class=\"dataframe\">\n",
       "  <thead>\n",
       "    <tr style=\"text-align: right;\">\n",
       "      <th></th>\n",
       "      <th>gender</th>\n",
       "      <th>age</th>\n",
       "      <th>annual_income</th>\n",
       "      <th>spending_score</th>\n",
       "      <th>is_male</th>\n",
       "      <th>age_scaled</th>\n",
       "      <th>annual_income_scaled</th>\n",
       "    </tr>\n",
       "    <tr>\n",
       "      <th>customer_id</th>\n",
       "      <th></th>\n",
       "      <th></th>\n",
       "      <th></th>\n",
       "      <th></th>\n",
       "      <th></th>\n",
       "      <th></th>\n",
       "      <th></th>\n",
       "    </tr>\n",
       "  </thead>\n",
       "  <tbody>\n",
       "    <tr>\n",
       "      <th>27</th>\n",
       "      <td>Female</td>\n",
       "      <td>45</td>\n",
       "      <td>28</td>\n",
       "      <td>32</td>\n",
       "      <td>0</td>\n",
       "      <td>0.519231</td>\n",
       "      <td>0.106557</td>\n",
       "    </tr>\n",
       "    <tr>\n",
       "      <th>24</th>\n",
       "      <td>Male</td>\n",
       "      <td>31</td>\n",
       "      <td>25</td>\n",
       "      <td>73</td>\n",
       "      <td>1</td>\n",
       "      <td>0.250000</td>\n",
       "      <td>0.081967</td>\n",
       "    </tr>\n",
       "    <tr>\n",
       "      <th>40</th>\n",
       "      <td>Female</td>\n",
       "      <td>20</td>\n",
       "      <td>37</td>\n",
       "      <td>75</td>\n",
       "      <td>0</td>\n",
       "      <td>0.038462</td>\n",
       "      <td>0.180328</td>\n",
       "    </tr>\n",
       "    <tr>\n",
       "      <th>38</th>\n",
       "      <td>Female</td>\n",
       "      <td>30</td>\n",
       "      <td>34</td>\n",
       "      <td>73</td>\n",
       "      <td>0</td>\n",
       "      <td>0.230769</td>\n",
       "      <td>0.155738</td>\n",
       "    </tr>\n",
       "    <tr>\n",
       "      <th>57</th>\n",
       "      <td>Female</td>\n",
       "      <td>51</td>\n",
       "      <td>44</td>\n",
       "      <td>50</td>\n",
       "      <td>0</td>\n",
       "      <td>0.634615</td>\n",
       "      <td>0.237705</td>\n",
       "    </tr>\n",
       "  </tbody>\n",
       "</table>\n",
       "</div>"
      ],
      "text/plain": [
       "             gender  age  annual_income  spending_score  is_male  age_scaled  \\\n",
       "customer_id                                                                    \n",
       "27           Female   45             28              32        0    0.519231   \n",
       "24             Male   31             25              73        1    0.250000   \n",
       "40           Female   20             37              75        0    0.038462   \n",
       "38           Female   30             34              73        0    0.230769   \n",
       "57           Female   51             44              50        0    0.634615   \n",
       "\n",
       "             annual_income_scaled  \n",
       "customer_id                        \n",
       "27                       0.106557  \n",
       "24                       0.081967  \n",
       "40                       0.180328  \n",
       "38                       0.155738  \n",
       "57                       0.237705  "
      ]
     },
     "execution_count": 22,
     "metadata": {},
     "output_type": "execute_result"
    }
   ],
   "source": [
    "train.head()"
   ]
  },
  {
   "cell_type": "markdown",
   "id": "743c49a0",
   "metadata": {},
   "source": [
    "I am now comparing variables, so I HAVE to use the train dataset."
   ]
  },
  {
   "cell_type": "markdown",
   "id": "10bf8efa",
   "metadata": {},
   "source": [
    "> what type of variable is spending_score? continuous  \n",
    "> what type of variable is gender? categorical"
   ]
  },
  {
   "cell_type": "code",
   "execution_count": 23,
   "id": "37c44ac9",
   "metadata": {},
   "outputs": [
    {
     "data": {
      "text/plain": [
       "<AxesSubplot:xlabel='gender', ylabel='spending_score'>"
      ]
     },
     "execution_count": 23,
     "metadata": {},
     "output_type": "execute_result"
    },
    {
     "data": {
      "image/png": "[encoded data removed]",
      "text/plain": [
       "<Figure size 432x288 with 1 Axes>"
      ]
     },
     "metadata": {
      "needs_background": "light"
     },
     "output_type": "display_data"
    }
   ],
   "source": [
    "sns.boxplot(data=train, x='gender', y='spending_score')"
   ]
  },
  {
   "cell_type": "code",
   "execution_count": 27,
   "id": "d0c702c1",
   "metadata": {},
   "outputs": [
    {
     "data": {
      "text/plain": [
       "<AxesSubplot:xlabel='gender', ylabel='spending_score'>"
      ]
     },
     "execution_count": 27,
     "metadata": {},
     "output_type": "execute_result"
    },
    {
     "data": {
      "image/png": "[encoded data removed]",
      "text/plain": [
       "<Figure size 432x288 with 1 Axes>"
      ]
     },
     "metadata": {
      "needs_background": "light"
     },
     "output_type": "display_data"
    }
   ],
   "source": [
    "sns.violinplot(data=train, x='gender', y='spending_score')"
   ]
  },
  {
   "cell_type": "code",
   "execution_count": 25,
   "id": "70a46ddc",
   "metadata": {},
   "outputs": [
    {
     "data": {
      "text/plain": [
       "<AxesSubplot:xlabel='gender', ylabel='spending_score'>"
      ]
     },
     "execution_count": 25,
     "metadata": {},
     "output_type": "execute_result"
    },
    {
     "data": {
      "image/png": "[encoded data removed]",
      "text/plain": [
       "<Figure size 432x288 with 1 Axes>"
      ]
     },
     "metadata": {
      "needs_background": "light"
     },
     "output_type": "display_data"
    }
   ],
   "source": [
    "sns.swarmplot(data=train, x='gender', y='spending_score')"
   ]
  },
  {
   "cell_type": "code",
   "execution_count": 26,
   "id": "225ba082",
   "metadata": {},
   "outputs": [
    {
     "data": {
      "text/html": [
       "<div>\n",
       "<style scoped>\n",
       "    .dataframe tbody tr th:only-of-type {\n",
       "        vertical-align: middle;\n",
       "    }\n",
       "\n",
       "    .dataframe tbody tr th {\n",
       "        vertical-align: top;\n",
       "    }\n",
       "\n",
       "    .dataframe thead th {\n",
       "        text-align: right;\n",
       "    }\n",
       "</style>\n",
       "<table border=\"1\" class=\"dataframe\">\n",
       "  <thead>\n",
       "    <tr style=\"text-align: right;\">\n",
       "      <th></th>\n",
       "      <th>age</th>\n",
       "      <th>annual_income</th>\n",
       "      <th>spending_score</th>\n",
       "      <th>is_male</th>\n",
       "      <th>age_scaled</th>\n",
       "      <th>annual_income_scaled</th>\n",
       "    </tr>\n",
       "  </thead>\n",
       "  <tbody>\n",
       "    <tr>\n",
       "      <th>count</th>\n",
       "      <td>112.000000</td>\n",
       "      <td>112.000000</td>\n",
       "      <td>112.000000</td>\n",
       "      <td>112.000000</td>\n",
       "      <td>112.000000</td>\n",
       "      <td>112.000000</td>\n",
       "    </tr>\n",
       "    <tr>\n",
       "      <th>mean</th>\n",
       "      <td>40.098214</td>\n",
       "      <td>58.794643</td>\n",
       "      <td>49.473214</td>\n",
       "      <td>0.410714</td>\n",
       "      <td>0.424966</td>\n",
       "      <td>0.358972</td>\n",
       "    </tr>\n",
       "    <tr>\n",
       "      <th>std</th>\n",
       "      <td>14.112776</td>\n",
       "      <td>26.865745</td>\n",
       "      <td>24.865751</td>\n",
       "      <td>0.494175</td>\n",
       "      <td>0.271400</td>\n",
       "      <td>0.220211</td>\n",
       "    </tr>\n",
       "    <tr>\n",
       "      <th>min</th>\n",
       "      <td>18.000000</td>\n",
       "      <td>15.000000</td>\n",
       "      <td>4.000000</td>\n",
       "      <td>0.000000</td>\n",
       "      <td>0.000000</td>\n",
       "      <td>0.000000</td>\n",
       "    </tr>\n",
       "    <tr>\n",
       "      <th>25%</th>\n",
       "      <td>29.750000</td>\n",
       "      <td>39.000000</td>\n",
       "      <td>35.000000</td>\n",
       "      <td>0.000000</td>\n",
       "      <td>0.225962</td>\n",
       "      <td>0.196721</td>\n",
       "    </tr>\n",
       "    <tr>\n",
       "      <th>50%</th>\n",
       "      <td>38.000000</td>\n",
       "      <td>59.000000</td>\n",
       "      <td>47.000000</td>\n",
       "      <td>0.000000</td>\n",
       "      <td>0.384615</td>\n",
       "      <td>0.360656</td>\n",
       "    </tr>\n",
       "    <tr>\n",
       "      <th>75%</th>\n",
       "      <td>49.250000</td>\n",
       "      <td>76.250000</td>\n",
       "      <td>69.000000</td>\n",
       "      <td>1.000000</td>\n",
       "      <td>0.600962</td>\n",
       "      <td>0.502049</td>\n",
       "    </tr>\n",
       "    <tr>\n",
       "      <th>max</th>\n",
       "      <td>70.000000</td>\n",
       "      <td>137.000000</td>\n",
       "      <td>99.000000</td>\n",
       "      <td>1.000000</td>\n",
       "      <td>1.000000</td>\n",
       "      <td>1.000000</td>\n",
       "    </tr>\n",
       "  </tbody>\n",
       "</table>\n",
       "</div>"
      ],
      "text/plain": [
       "              age  annual_income  spending_score     is_male  age_scaled  \\\n",
       "count  112.000000     112.000000      112.000000  112.000000  112.000000   \n",
       "mean    40.098214      58.794643       49.473214    0.410714    0.424966   \n",
       "std     14.112776      26.865745       24.865751    0.494175    0.271400   \n",
       "min     18.000000      15.000000        4.000000    0.000000    0.000000   \n",
       "25%     29.750000      39.000000       35.000000    0.000000    0.225962   \n",
       "50%     38.000000      59.000000       47.000000    0.000000    0.384615   \n",
       "75%     49.250000      76.250000       69.000000    1.000000    0.600962   \n",
       "max     70.000000     137.000000       99.000000    1.000000    1.000000   \n",
       "\n",
       "       annual_income_scaled  \n",
       "count            112.000000  \n",
       "mean               0.358972  \n",
       "std                0.220211  \n",
       "min                0.000000  \n",
       "25%                0.196721  \n",
       "50%                0.360656  \n",
       "75%                0.502049  \n",
       "max                1.000000  "
      ]
     },
     "execution_count": 26,
     "metadata": {},
     "output_type": "execute_result"
    }
   ],
   "source": [
    "train.describe()"
   ]
  },
  {
   "cell_type": "markdown",
   "id": "1b49d413",
   "metadata": {},
   "source": [
    "Thoughts"
   ]
  },
  {
   "cell_type": "markdown",
   "id": "a57e2f3d",
   "metadata": {},
   "source": [
    "- it looks like gender does not affect our spending score"
   ]
  },
  {
   "cell_type": "markdown",
   "id": "eed7eaf5",
   "metadata": {},
   "source": [
    "Which stats test to use? "
   ]
  },
  {
   "cell_type": "markdown",
   "id": "29df2f71",
   "metadata": {},
   "source": [
    "- we have continuous and categorical variables, so we will do a comparing means test\n",
    "- since they are normally distributed, we can use a t-test\n",
    "- we have 2 independent categories, therefore, we will use a 2-sample t-test\n",
    "- since we are checking to see if they are the same, we will use a 2-tail t-test\n",
    "\n",
    "Note: when using a t-test, we have to check for equal variances"
   ]
  },
  {
   "cell_type": "markdown",
   "id": "8ffe209e",
   "metadata": {},
   "source": [
    "Levene Test\n",
    "- Ho: the variances are equal\n",
    "- Ha: the variances are different\n",
    "\n",
    "alpha = 0.05"
   ]
  },
  {
   "cell_type": "code",
   "execution_count": 28,
   "id": "58eca0da",
   "metadata": {},
   "outputs": [
    {
     "data": {
      "text/plain": [
       "LeveneResult(statistic=0.016334996444000886, pvalue=0.8985339363273774)"
      ]
     },
     "execution_count": 28,
     "metadata": {},
     "output_type": "execute_result"
    }
   ],
   "source": [
    "stats.levene(train[train.gender=='Male'].spending_score,\n",
    "             train[train.gender=='Female'].spending_score)"
   ]
  },
  {
   "cell_type": "code",
   "execution_count": 29,
   "id": "69f3170a-c410-4430-9463-69455d6334b1",
   "metadata": {},
   "outputs": [],
   "source": [
    "# p is greater than our alpha, we fail to reject the null,\n",
    "# suggesting we have roughly equal variance and can run a standard t-test"
   ]
  },
  {
   "cell_type": "markdown",
   "id": "593fbcc0",
   "metadata": {},
   "source": [
    "2-sample, 2-tail t-test"
   ]
  },
  {
   "cell_type": "code",
   "execution_count": 30,
   "id": "133c173f",
   "metadata": {},
   "outputs": [
    {
     "data": {
      "text/plain": [
       "Ttest_indResult(statistic=-0.2520372896728062, pvalue=0.8014825487089098)"
      ]
     },
     "execution_count": 30,
     "metadata": {},
     "output_type": "execute_result"
    }
   ],
   "source": [
    "stats.ttest_ind(train[train.gender=='Male'].spending_score,\n",
    "             train[train.gender=='Female'].spending_score)"
   ]
  },
  {
   "cell_type": "markdown",
   "id": "ed1488f5-6190-48ef-90a3-0fb3744e02b0",
   "metadata": {},
   "source": [
    "> We fail to reject the null hypothesis, with a p-value greater than our alpha of 0.05"
   ]
  },
  {
   "cell_type": "markdown",
   "id": "ed149f22",
   "metadata": {},
   "source": [
    "#### Takeaway"
   ]
  },
  {
   "cell_type": "markdown",
   "id": "8e893aad",
   "metadata": {},
   "source": [
    "- there is not a significant difference in spending score means between gender"
   ]
  },
  {
   "cell_type": "markdown",
   "id": "02873917",
   "metadata": {},
   "source": [
    "### Q3. Is there a relationship between spending score and annual income?"
   ]
  },
  {
   "cell_type": "markdown",
   "id": "e3393443",
   "metadata": {},
   "source": [
    "> what type of variable is spending score? continuous, target   \n",
    "> what type of variable is annual income? continuous"
   ]
  },
  {
   "cell_type": "code",
   "execution_count": 34,
   "id": "06f12656-51d0-401d-bab1-a11216722780",
   "metadata": {},
   "outputs": [
    {
     "data": {
      "text/plain": [
       "<AxesSubplot:xlabel='annual_income', ylabel='age'>"
      ]
     },
     "execution_count": 34,
     "metadata": {},
     "output_type": "execute_result"
    },
    {
     "data": {
      "image/png": "[encoded data removed]",
      "text/plain": [
       "<Figure size 432x288 with 1 Axes>"
      ]
     },
     "metadata": {
      "needs_background": "light"
     },
     "output_type": "display_data"
    }
   ],
   "source": [
    "# age vs annual income\n",
    "sns.scatterplot(data=train, x='annual_income', y='age', hue='spending_score')\n"
   ]
  },
  {
   "cell_type": "code",
   "execution_count": 33,
   "id": "cbe7b289",
   "metadata": {},
   "outputs": [
    {
     "data": {
      "image/png": "[encoded data removed]",
      "text/plain": [
       "<Figure size 432x288 with 1 Axes>"
      ]
     },
     "metadata": {
      "needs_background": "light"
     },
     "output_type": "display_data"
    }
   ],
   "source": [
    "sns.scatterplot(data=train, x='annual_income', y='spending_score', hue='age')\n",
    "plt.title('Relationship Between Annual Income and Spending Score')\n",
    "plt.show()"
   ]
  },
  {
   "cell_type": "markdown",
   "id": "93e4049a",
   "metadata": {},
   "source": [
    "Thoughts"
   ]
  },
  {
   "cell_type": "markdown",
   "id": "2042078b",
   "metadata": {},
   "source": [
    "- there does not appear to be a linear relationship\n",
    "- it looks like a big X\n",
    "- these could be clusters!"
   ]
  },
  {
   "cell_type": "markdown",
   "id": "30aa56d4",
   "metadata": {},
   "source": [
    "Which stats test to use? \n"
   ]
  },
  {
   "cell_type": "markdown",
   "id": "3cd81f08",
   "metadata": {},
   "source": [
    "- we have two continuous variables, therefore, we will do a correlation test \n",
    "- since they are not normally distributed, we will use spearmans test"
   ]
  },
  {
   "cell_type": "markdown",
   "id": "385929dc",
   "metadata": {},
   "source": [
    "Spearmean R\n"
   ]
  },
  {
   "cell_type": "markdown",
   "id": "4d561eac",
   "metadata": {},
   "source": [
    "- Ho: there is no linear correlation between annual income and spending score\n",
    "- Ha: there is linear correlation between annual income and spending score"
   ]
  },
  {
   "cell_type": "code",
   "execution_count": 35,
   "id": "ce8556f3",
   "metadata": {},
   "outputs": [
    {
     "data": {
      "text/plain": [
       "SpearmanrResult(correlation=0.0139166413882597, pvalue=0.8842097894086705)"
      ]
     },
     "execution_count": 35,
     "metadata": {},
     "output_type": "execute_result"
    }
   ],
   "source": [
    "stats.spearmanr(train.annual_income, train.spending_score)"
   ]
  },
  {
   "cell_type": "markdown",
   "id": "b6c27117",
   "metadata": {},
   "source": [
    "#### Takeaways"
   ]
  },
  {
   "cell_type": "markdown",
   "id": "4e797cce",
   "metadata": {},
   "source": [
    "- there is no linear correlation between annual income and spending score\n",
    "- however, there does appear to be some kind of non-linear relationship"
   ]
  },
  {
   "cell_type": "markdown",
   "id": "9595e1ca",
   "metadata": {},
   "source": [
    "### Q4. Is there a relationship between age and spending score? "
   ]
  },
  {
   "cell_type": "code",
   "execution_count": 36,
   "id": "80a1ca18",
   "metadata": {},
   "outputs": [
    {
     "data": {
      "text/plain": [
       "<AxesSubplot:>"
      ]
     },
     "execution_count": 36,
     "metadata": {},
     "output_type": "execute_result"
    },
    {
     "data": {
      "image/png": "[encoded data removed]",
      "text/plain": [
       "<Figure size 432x288 with 1 Axes>"
      ]
     },
     "metadata": {
      "needs_background": "light"
     },
     "output_type": "display_data"
    }
   ],
   "source": [
    "train.age.hist()"
   ]
  },
  {
   "cell_type": "code",
   "execution_count": 37,
   "id": "5e13b354",
   "metadata": {},
   "outputs": [
    {
     "data": {
      "text/plain": [
       "46"
      ]
     },
     "execution_count": 37,
     "metadata": {},
     "output_type": "execute_result"
    }
   ],
   "source": [
    "train.age.nunique()"
   ]
  },
  {
   "cell_type": "code",
   "execution_count": 40,
   "id": "9056a9f1-4c9e-42a6-8e6f-13e5668fda79",
   "metadata": {},
   "outputs": [],
   "source": [
    "# train.age.value_counts()"
   ]
  },
  {
   "cell_type": "markdown",
   "id": "48548953",
   "metadata": {},
   "source": [
    "> what type of variable is age? continuous     \n",
    "> what type of variable is spending score? continuous "
   ]
  },
  {
   "cell_type": "code",
   "execution_count": 42,
   "id": "9a7ef695",
   "metadata": {},
   "outputs": [
    {
     "data": {
      "text/plain": [
       "<AxesSubplot:xlabel='age', ylabel='spending_score'>"
      ]
     },
     "execution_count": 42,
     "metadata": {},
     "output_type": "execute_result"
    },
    {
     "data": {
      "image/png": "[encoded data removed]",
      "text/plain": [
       "<Figure size 432x288 with 1 Axes>"
      ]
     },
     "metadata": {
      "needs_background": "light"
     },
     "output_type": "display_data"
    }
   ],
   "source": [
    "sns.scatterplot(data=train, x='age', y='spending_score')"
   ]
  },
  {
   "cell_type": "markdown",
   "id": "6f1469a5",
   "metadata": {},
   "source": [
    "Thoughts\n",
    "- there doesnt really look like a linear relationship\n",
    "- at 40 years old, something is happening, there is a dropoff in spending score"
   ]
  },
  {
   "cell_type": "markdown",
   "id": "80bebcad",
   "metadata": {},
   "source": [
    "We'll use `pd.cut()` to make bins"
   ]
  },
  {
   "cell_type": "code",
   "execution_count": 44,
   "id": "70dad03b",
   "metadata": {},
   "outputs": [],
   "source": [
    "#make new age_bin column\n",
    "#adding a label is helpful for calling that column!\n",
    "train['age_bins'] = pd.cut(train.age,[0,40,80], labels=['40_and_under', 'over_40'])"
   ]
  },
  {
   "cell_type": "code",
   "execution_count": 45,
   "id": "775a2aae",
   "metadata": {},
   "outputs": [
    {
     "data": {
      "text/plain": [
       "customer_id\n",
       "27          over_40\n",
       "24     40_and_under\n",
       "40     40_and_under\n",
       "38     40_and_under\n",
       "57          over_40\n",
       "           ...     \n",
       "177         over_40\n",
       "195         over_40\n",
       "13          over_40\n",
       "35          over_40\n",
       "118         over_40\n",
       "Name: age_bins, Length: 112, dtype: category\n",
       "Categories (2, object): ['40_and_under' < 'over_40']"
      ]
     },
     "execution_count": 45,
     "metadata": {},
     "output_type": "execute_result"
    }
   ],
   "source": [
    "train['age_bins']"
   ]
  },
  {
   "cell_type": "code",
   "execution_count": 47,
   "id": "0a144b67",
   "metadata": {},
   "outputs": [
    {
     "data": {
      "text/plain": [
       "customer_id\n",
       "24     73\n",
       "40     75\n",
       "38     73\n",
       "163     5\n",
       "78     48\n",
       "       ..\n",
       "26     82\n",
       "182    86\n",
       "18     66\n",
       "59     51\n",
       "1      39\n",
       "Name: spending_score, Length: 62, dtype: int64"
      ]
     },
     "execution_count": 47,
     "metadata": {},
     "output_type": "execute_result"
    }
   ],
   "source": [
    "# train[train.age <= 40].spending_score"
   ]
  },
  {
   "cell_type": "code",
   "execution_count": 48,
   "id": "957f8389",
   "metadata": {},
   "outputs": [
    {
     "data": {
      "image/png": "[encoded data removed]",
      "text/plain": [
       "<Figure size 432x288 with 1 Axes>"
      ]
     },
     "metadata": {
      "needs_background": "light"
     },
     "output_type": "display_data"
    }
   ],
   "source": [
    "train.spending_score.hist()\n",
    "plt.show()"
   ]
  },
  {
   "cell_type": "code",
   "execution_count": 49,
   "id": "ec653c09-bdf3-43c7-abef-09946dc61372",
   "metadata": {},
   "outputs": [
    {
     "data": {
      "text/plain": [
       "<AxesSubplot:xlabel='age_bins', ylabel='spending_score'>"
      ]
     },
     "execution_count": 49,
     "metadata": {},
     "output_type": "execute_result"
    },
    {
     "data": {
      "image/png": "[encoded data removed]",
      "text/plain": [
       "<Figure size 432x288 with 1 Axes>"
      ]
     },
     "metadata": {
      "needs_background": "light"
     },
     "output_type": "display_data"
    }
   ],
   "source": [
    "sns.boxplot(data=train, x='age_bins', y='spending_score')"
   ]
  },
  {
   "cell_type": "markdown",
   "id": "1c0e1c44",
   "metadata": {},
   "source": [
    "Which stats test to use? \n"
   ]
  },
  {
   "cell_type": "markdown",
   "id": "cfd015e5",
   "metadata": {},
   "source": [
    "- 2-sample, 2-tail, t-test\n",
    "\n",
    "note: when using a ttest, have to test for equal variances! "
   ]
  },
  {
   "cell_type": "markdown",
   "id": "b6f36c84",
   "metadata": {},
   "source": [
    "Levene test"
   ]
  },
  {
   "cell_type": "code",
   "execution_count": 50,
   "id": "64f3f624",
   "metadata": {},
   "outputs": [
    {
     "data": {
      "text/plain": [
       "LeveneResult(statistic=15.352912166943206, pvalue=0.00015525914569012802)"
      ]
     },
     "execution_count": 50,
     "metadata": {},
     "output_type": "execute_result"
    }
   ],
   "source": [
    "#stats.levene\n",
    "stats.levene(train[train.age <= 40].spending_score,\n",
    "             train[train.age > 40].spending_score)"
   ]
  },
  {
   "cell_type": "markdown",
   "id": "b2a10c9c",
   "metadata": {},
   "source": [
    "> our pvalue is less than alpha, therefore we reject the null hypothesis  \n",
    "> our variances are not equal"
   ]
  },
  {
   "cell_type": "code",
   "execution_count": 51,
   "id": "206a5004",
   "metadata": {},
   "outputs": [
    {
     "data": {
      "text/plain": [
       "Ttest_indResult(statistic=5.292725484839427, pvalue=6.652618486151612e-07)"
      ]
     },
     "execution_count": 51,
     "metadata": {},
     "output_type": "execute_result"
    }
   ],
   "source": [
    "#stats.ttest_ind\n",
    "stats.ttest_ind(train[train.age <= 40].spending_score,\n",
    "             train[train.age > 40].spending_score,\n",
    "               equal_var=False)"
   ]
  },
  {
   "cell_type": "markdown",
   "id": "a045afff-730a-4b5c-8df4-6ad0341941a5",
   "metadata": {},
   "source": [
    "> We can reject our null hypothesis and there seems to be a difference in the spending scores on average amongst our populations between uneder-40s and over-40s"
   ]
  },
  {
   "cell_type": "markdown",
   "id": "566d5c78",
   "metadata": {},
   "source": [
    "#### Takeaway"
   ]
  },
  {
   "cell_type": "markdown",
   "id": "08fa08d5",
   "metadata": {},
   "source": [
    "### Q. If we control for age, does spending score differ across annual income?"
   ]
  },
  {
   "cell_type": "markdown",
   "id": "d613e6f8",
   "metadata": {},
   "source": [
    "Use `sns.relplot` to control for variables"
   ]
  },
  {
   "cell_type": "code",
   "execution_count": 54,
   "id": "9b9d8702",
   "metadata": {},
   "outputs": [
    {
     "data": {
      "text/plain": [
       "<seaborn.axisgrid.FacetGrid at 0x7fba9bc9ec70>"
      ]
     },
     "execution_count": 54,
     "metadata": {},
     "output_type": "execute_result"
    },
    {
     "data": {
      "image/png": "[encoded data removed]",
      "text/plain": [
       "<Figure size 720x360 with 2 Axes>"
      ]
     },
     "metadata": {
      "needs_background": "light"
     },
     "output_type": "display_data"
    }
   ],
   "source": [
    "sns.relplot(data=train, x='annual_income',y='spending_score', col='age_bins')"
   ]
  },
  {
   "cell_type": "markdown",
   "id": "46c1ae1e",
   "metadata": {},
   "source": [
    "Thoughts\n"
   ]
  },
  {
   "cell_type": "markdown",
   "id": "36b896c0",
   "metadata": {},
   "source": [
    "- we see more customers with a high spending score for customers over 40\n",
    "- we see half an X in the customers over 40\n",
    "- customers over 40 dont have high spending scores"
   ]
  },
  {
   "cell_type": "markdown",
   "id": "f67c590d",
   "metadata": {},
   "source": [
    "Thoughts"
   ]
  },
  {
   "cell_type": "markdown",
   "id": "f647852d",
   "metadata": {},
   "source": [
    "- starting to see a negative linear relationship in customers less than 30\n",
    "- customers betweeen 30 and 40 are still scattered everywhere\n",
    "- over 40 customers still have the half X shape"
   ]
  },
  {
   "cell_type": "markdown",
   "id": "d9226697",
   "metadata": {},
   "source": [
    "#### Does gender play a role?"
   ]
  },
  {
   "cell_type": "code",
   "execution_count": 56,
   "id": "73067241",
   "metadata": {},
   "outputs": [
    {
     "data": {
      "image/png": "[encoded data removed]",
      "text/plain": [
       "<Figure size 1152.12x360 with 3 Axes>"
      ]
     },
     "metadata": {
      "needs_background": "light"
     },
     "output_type": "display_data"
    }
   ],
   "source": [
    "sns.relplot(data=train,\n",
    "            x='annual_income',\n",
    "            y='spending_score',\n",
    "            hue='gender',\n",
    "            col=pd.cut(train.age, [0,30,40,80]))\n",
    "plt.suptitle('Does the differences in decade of spenders age vary by gender?')\n",
    "plt.tight_layout()\n",
    "plt.show()"
   ]
  },
  {
   "cell_type": "markdown",
   "id": "98d2a91f",
   "metadata": {},
   "source": [
    "Thoughts\n"
   ]
  },
  {
   "cell_type": "markdown",
   "id": "1b425b1c",
   "metadata": {},
   "source": [
    "- gender still doesn't tell us anything"
   ]
  },
  {
   "cell_type": "markdown",
   "id": "2de96074",
   "metadata": {},
   "source": [
    "#### Takeaways\n"
   ]
  },
  {
   "cell_type": "markdown",
   "id": "39e744cd",
   "metadata": {},
   "source": [
    "- spending score and income does change with age, especially at the 40 year mark\n",
    "- also, gender does not affect these variables"
   ]
  },
  {
   "cell_type": "markdown",
   "id": "5584f79f",
   "metadata": {},
   "source": [
    "### Q. If we control for annual income, does spending score differ across age?"
   ]
  },
  {
   "cell_type": "code",
   "execution_count": 57,
   "id": "586576f3",
   "metadata": {},
   "outputs": [
    {
     "data": {
      "text/plain": [
       "<AxesSubplot:>"
      ]
     },
     "execution_count": 57,
     "metadata": {},
     "output_type": "execute_result"
    },
    {
     "data": {
      "image/png": "[encoded data removed]",
      "text/plain": [
       "<Figure size 432x288 with 1 Axes>"
      ]
     },
     "metadata": {
      "needs_background": "light"
     },
     "output_type": "display_data"
    }
   ],
   "source": [
    "train.annual_income.hist()"
   ]
  },
  {
   "cell_type": "code",
   "execution_count": 59,
   "id": "d8e7f456",
   "metadata": {},
   "outputs": [],
   "source": [
    "train['income_bins'] = pd.cut(train.annual_income, [0,50,60,90,150])"
   ]
  },
  {
   "cell_type": "code",
   "execution_count": 61,
   "id": "51040b19",
   "metadata": {},
   "outputs": [
    {
     "data": {
      "text/plain": [
       "<seaborn.axisgrid.FacetGrid at 0x7fba68b4a9d0>"
      ]
     },
     "execution_count": 61,
     "metadata": {},
     "output_type": "execute_result"
    },
    {
     "data": {
      "image/png": "[encoded data removed]",
      "text/plain": [
       "<Figure size 1440x360 with 4 Axes>"
      ]
     },
     "metadata": {
      "needs_background": "light"
     },
     "output_type": "display_data"
    }
   ],
   "source": [
    "sns.relplot(data=train,\n",
    "            x='age',\n",
    "            y='spending_score',\n",
    "            col='income_bins')"
   ]
  },
  {
   "cell_type": "markdown",
   "id": "07538266",
   "metadata": {},
   "source": [
    "Takeaways\n"
   ]
  },
  {
   "cell_type": "markdown",
   "id": "814397fb",
   "metadata": {},
   "source": [
    "- For those in the 0-50 annual income category, I have a large spread of ages, with an overall negative appearing correlation\n",
    "- 50 to 60 income bands have very stable looking spending scores in the mid-range\n",
    "- 60 - 90 are very scattered\n",
    "- 90+ income band have volatile spending scores, but a very specific age band"
   ]
  },
  {
   "cell_type": "markdown",
   "id": "4e0a3cd1",
   "metadata": {},
   "source": [
    "### If you don't know where to start, start with pairplot"
   ]
  },
  {
   "cell_type": "code",
   "execution_count": 62,
   "id": "a2e3c98d-f570-4f15-a40c-13be35bc52ff",
   "metadata": {},
   "outputs": [
    {
     "data": {
      "text/plain": [
       "Index(['gender', 'age', 'annual_income', 'spending_score', 'is_male',\n",
       "       'age_scaled', 'annual_income_scaled', 'age_bins', 'income_bins'],\n",
       "      dtype='object')"
      ]
     },
     "execution_count": 62,
     "metadata": {},
     "output_type": "execute_result"
    }
   ],
   "source": [
    "train.columns"
   ]
  },
  {
   "cell_type": "code",
   "execution_count": 66,
   "id": "6fdeb750",
   "metadata": {},
   "outputs": [
    {
     "data": {
      "text/plain": [
       "<seaborn.axisgrid.PairGrid at 0x7fba884449a0>"
      ]
     },
     "execution_count": 66,
     "metadata": {},
     "output_type": "execute_result"
    },
    {
     "data": {
      "image/png": "[encoded data removed]",
      "text/plain": [
       "<Figure size 720x720 with 14 Axes>"
      ]
     },
     "metadata": {
      "needs_background": "light"
     },
     "output_type": "display_data"
    }
   ],
   "source": [
    "sns.pairplot(data=train[['age','is_male','annual_income','spending_score']],\n",
    "             corner=True)"
   ]
  },
  {
   "cell_type": "code",
   "execution_count": null,
   "id": "4e197496",
   "metadata": {},
   "outputs": [],
   "source": []
  },
  {
   "cell_type": "markdown",
   "id": "dddf5c33",
   "metadata": {},
   "source": [
    "## Conclusion\n",
    "\n"
   ]
  },
  {
   "cell_type": "markdown",
   "id": "e1ae476a-e717-425e-a7a2-3dac1d128861",
   "metadata": {},
   "source": [
    "Questions for further investiation:\n",
    " - There seems to be more inside of age to annual income that we haven't fully captured, but can examine basic ideas of through binning\n",
    " - Gender has not proven exceptionally useful\n",
    " - If we are making clusters *using* spending score and not *for* spending score, then annual income x spending_score seems to have 5 distinct groups\n",
    " - if we are making clusters *for targeting* spending score, then we may want to rely on a univariate cluster on age and proceed forward with further segmentation"
   ]
  },
  {
   "cell_type": "code",
   "execution_count": null,
   "id": "ae6635b2-12db-4cc8-af8b-b2b4304e79b3",
   "metadata": {},
   "outputs": [],
   "source": []
  }
 ],
 "metadata": {
  "kernelspec": {
   "display_name": "Python 3 (ipykernel)",
   "language": "python",
   "name": "python3"
  },
  "language_info": {
   "codemirror_mode": {
    "name": "ipython",
    "version": 3
   },
   "file_extension": ".py",
   "mimetype": "text/x-python",
   "name": "python",
   "nbconvert_exporter": "python",
   "pygments_lexer": "ipython3",
   "version": "3.9.13"
  }
 },
 "nbformat": 4,
 "nbformat_minor": 5
}
