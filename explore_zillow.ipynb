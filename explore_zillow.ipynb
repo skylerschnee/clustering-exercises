{
 "cells": [
  {
   "cell_type": "markdown",
   "id": "812dcd4a",
   "metadata": {},
   "source": [
    "# Exercises\n",
    "#### Sourcing the Zillow database as the data source, create a jupyter notebook named explore_zillow and do the following:\n",
    "\n",
    "- Ask at least 5 questions about the data, keeping in mind that your target variable is logerror. e.g. Is logerror significantly different for properties in LA County vs Orange County vs Ventura County?\n",
    "\n",
    "- Answer those questions through a mix of statistical tests and visualizations."
   ]
  },
  {
   "cell_type": "code",
   "execution_count": 1,
   "id": "93a2aa6f",
   "metadata": {},
   "outputs": [],
   "source": [
    "#standard ds\n",
    "import pandas as pd\n",
    "import numpy as np\n",
    "\n",
    "#viz and stats\n",
    "import seaborn as sns\n",
    "import matplotlib.pyplot as plt\n",
    "from scipy import stats\n",
    "\n",
    "#splits, scale\n",
    "from sklearn.model_selection import train_test_split\n",
    "from sklearn.preprocessing import MinMaxScaler\n",
    "\n",
    "#my env file\n",
    "import env\n",
    "\n",
    "import wrangle_zillow as w"
   ]
  },
  {
   "cell_type": "markdown",
   "id": "a4e3bc00",
   "metadata": {},
   "source": [
    "## Acquire"
   ]
  },
  {
   "cell_type": "code",
   "execution_count": 2,
   "id": "9c998e17",
   "metadata": {},
   "outputs": [
    {
     "name": "stdout",
     "output_type": "stream",
     "text": [
      "--- Shape: (77380, 68)\n",
      "--- Info\n",
      "<class 'pandas.core.frame.DataFrame'>\n",
      "RangeIndex: 77380 entries, 0 to 77379\n",
      "Data columns (total 68 columns):\n",
      " #   Column                        Non-Null Count  Dtype  \n",
      "---  ------                        --------------  -----  \n",
      " 0   id                            77380 non-null  int64  \n",
      " 1   parcelid                      77380 non-null  int64  \n",
      " 2   airconditioningtypeid         24953 non-null  float64\n",
      " 3   architecturalstyletypeid      206 non-null    float64\n",
      " 4   basementsqft                  50 non-null     float64\n",
      " 5   bathroomcnt                   77380 non-null  float64\n",
      " 6   bedroomcnt                    77380 non-null  float64\n",
      " 7   buildingclasstypeid           15 non-null     float64\n",
      " 8   buildingqualitytypeid         49671 non-null  float64\n",
      " 9   calculatedbathnbr             76771 non-null  float64\n",
      " 10  decktypeid                    614 non-null    float64\n",
      " 11  finishedfloor1squarefeet      6023 non-null   float64\n",
      " 12  calculatedfinishedsquarefeet  77184 non-null  float64\n",
      " 13  finishedsquarefeet12          73748 non-null  float64\n",
      " 14  finishedsquarefeet13          41 non-null     float64\n",
      " 15  finishedsquarefeet15          3009 non-null   float64\n",
      " 16  finishedsquarefeet50          6023 non-null   float64\n",
      " 17  finishedsquarefeet6           386 non-null    float64\n",
      " 18  fips                          77380 non-null  float64\n",
      " 19  fireplacecnt                  8276 non-null   float64\n",
      " 20  fullbathcnt                   76771 non-null  float64\n",
      " 21  garagecarcnt                  25474 non-null  float64\n",
      " 22  garagetotalsqft               25474 non-null  float64\n",
      " 23  hashottuborspa                1538 non-null   float64\n",
      " 24  heatingorsystemtypeid         49439 non-null  float64\n",
      " 25  latitude                      77380 non-null  float64\n",
      " 26  longitude                     77380 non-null  float64\n",
      " 27  lotsizesquarefeet             69141 non-null  float64\n",
      " 28  poolcnt                       16137 non-null  float64\n",
      " 29  poolsizesum                   867 non-null    float64\n",
      " 30  pooltypeid10                  464 non-null    float64\n",
      " 31  pooltypeid2                   1074 non-null   float64\n",
      " 32  pooltypeid7                   15042 non-null  float64\n",
      " 33  propertycountylandusecode     77380 non-null  object \n",
      " 34  propertylandusetypeid         77380 non-null  float64\n",
      " 35  propertyzoningdesc            50330 non-null  object \n",
      " 36  rawcensustractandblock        77380 non-null  float64\n",
      " 37  regionidcity                  75909 non-null  float64\n",
      " 38  regionidcounty                77380 non-null  float64\n",
      " 39  regionidneighborhood          30890 non-null  float64\n",
      " 40  regionidzip                   77330 non-null  float64\n",
      " 41  roomcnt                       77380 non-null  float64\n",
      " 42  storytypeid                   50 non-null     float64\n",
      " 43  threequarterbathnbr           10096 non-null  float64\n",
      " 44  typeconstructiontypeid        222 non-null    float64\n",
      " 45  unitcnt                       50562 non-null  float64\n",
      " 46  yardbuildingsqft17            2388 non-null   float64\n",
      " 47  yardbuildingsqft26            70 non-null     float64\n",
      " 48  yearbuilt                     77117 non-null  float64\n",
      " 49  numberofstories               17560 non-null  float64\n",
      " 50  fireplaceflag                 172 non-null    float64\n",
      " 51  structuretaxvaluedollarcnt    77268 non-null  float64\n",
      " 52  taxvaluedollarcnt             77379 non-null  float64\n",
      " 53  assessmentyear                77380 non-null  float64\n",
      " 54  landtaxvaluedollarcnt         77378 non-null  float64\n",
      " 55  taxamount                     77375 non-null  float64\n",
      " 56  taxdelinquencyflag            2886 non-null   object \n",
      " 57  taxdelinquencyyear            2886 non-null   float64\n",
      " 58  censustractandblock           77136 non-null  float64\n",
      " 59  logerror                      77380 non-null  float64\n",
      " 60  transactiondate               77380 non-null  object \n",
      " 61  airconditioningdesc           24953 non-null  object \n",
      " 62  architecturalstyledesc        206 non-null    object \n",
      " 63  buildingclassdesc             15 non-null     object \n",
      " 64  heatingorsystemdesc           49439 non-null  object \n",
      " 65  propertylandusedesc           77380 non-null  object \n",
      " 66  storydesc                     50 non-null     object \n",
      " 67  typeconstructiondesc          222 non-null    object \n",
      "dtypes: float64(55), int64(2), object(11)\n",
      "memory usage: 40.1+ MB\n",
      "--- Column Descriptions\n",
      "                  id      parcelid  airconditioningtypeid  \\\n",
      "count   7.738000e+04  7.738000e+04           24953.000000   \n",
      "unique           NaN           NaN                    NaN   \n",
      "top              NaN           NaN                    NaN   \n",
      "freq             NaN           NaN                    NaN   \n",
      "mean    1.495126e+06  1.300715e+07               1.813289   \n",
      "std     8.609057e+05  3.481368e+06               2.967894   \n",
      "min     3.490000e+02  1.071186e+07               1.000000   \n",
      "25%     7.520500e+05  1.153830e+07               1.000000   \n",
      "50%     1.497870e+06  1.253155e+07               1.000000   \n",
      "75%     2.240480e+06  1.421184e+07               1.000000   \n",
      "max     2.982274e+06  1.676893e+08              13.000000   \n",
      "\n",
      "        architecturalstyletypeid  basementsqft   bathroomcnt    bedroomcnt  \\\n",
      "count                 206.000000     50.000000  77380.000000  77380.000000   \n",
      "unique                       NaN           NaN           NaN           NaN   \n",
      "top                          NaN           NaN           NaN           NaN   \n",
      "freq                         NaN           NaN           NaN           NaN   \n",
      "mean                    7.388350    679.720000      2.299134      3.053489   \n",
      "std                     2.734542    689.703546      0.996657      1.139103   \n",
      "min                     2.000000     38.000000      0.000000      0.000000   \n",
      "25%                     7.000000    273.000000      2.000000      2.000000   \n",
      "50%                     7.000000    515.000000      2.000000      3.000000   \n",
      "75%                     7.000000    796.500000      3.000000      4.000000   \n",
      "max                    21.000000   3560.000000     18.000000     16.000000   \n",
      "\n",
      "        buildingclasstypeid  buildingqualitytypeid  calculatedbathnbr  ...  \\\n",
      "count             15.000000           49671.000000       76771.000000  ...   \n",
      "unique                  NaN                    NaN                NaN  ...   \n",
      "top                     NaN                    NaN                NaN  ...   \n",
      "freq                    NaN                    NaN                NaN  ...   \n",
      "mean               3.933333               6.534638           2.316871  ...   \n",
      "std                0.258199               1.721933           0.979761  ...   \n",
      "min                3.000000               1.000000           1.000000  ...   \n",
      "25%                4.000000               6.000000           2.000000  ...   \n",
      "50%                4.000000               6.000000           2.000000  ...   \n",
      "75%                4.000000               8.000000           3.000000  ...   \n",
      "max                4.000000              12.000000          18.000000  ...   \n",
      "\n",
      "        censustractandblock      logerror  transactiondate  \\\n",
      "count          7.713600e+04  77380.000000            77380   \n",
      "unique                  NaN           NaN              264   \n",
      "top                     NaN           NaN       2017-06-30   \n",
      "freq                    NaN           NaN             1189   \n",
      "mean           6.049674e+13      0.016628              NaN   \n",
      "std            1.535252e+12      0.170190              NaN   \n",
      "min            6.037101e+13     -4.655420              NaN   \n",
      "25%            6.037311e+13     -0.024377              NaN   \n",
      "50%            6.037603e+13      0.006627              NaN   \n",
      "75%            6.059042e+13      0.039204              NaN   \n",
      "max            4.830301e+14      5.262999              NaN   \n",
      "\n",
      "        airconditioningdesc  architecturalstyledesc  \\\n",
      "count                 24953                     206   \n",
      "unique                    5                       5   \n",
      "top                 Central            Contemporary   \n",
      "freq                  23133                     172   \n",
      "mean                    NaN                     NaN   \n",
      "std                     NaN                     NaN   \n",
      "min                     NaN                     NaN   \n",
      "25%                     NaN                     NaN   \n",
      "50%                     NaN                     NaN   \n",
      "75%                     NaN                     NaN   \n",
      "max                     NaN                     NaN   \n",
      "\n",
      "                                     buildingclassdesc  heatingorsystemdesc  \\\n",
      "count                                               15                49439   \n",
      "unique                                               2                   10   \n",
      "top     Buildings having wood or wood and steel frames              Central   \n",
      "freq                                                14                33550   \n",
      "mean                                               NaN                  NaN   \n",
      "std                                                NaN                  NaN   \n",
      "min                                                NaN                  NaN   \n",
      "25%                                                NaN                  NaN   \n",
      "50%                                                NaN                  NaN   \n",
      "75%                                                NaN                  NaN   \n",
      "max                                                NaN                  NaN   \n",
      "\n",
      "              propertylandusedesc  storydesc  typeconstructiondesc  \n",
      "count                       77380         50                   222  \n",
      "unique                         13          1                     4  \n",
      "top     Single Family Residential   Basement                 Frame  \n",
      "freq                        52319         50                   219  \n",
      "mean                          NaN        NaN                   NaN  \n",
      "std                           NaN        NaN                   NaN  \n",
      "min                           NaN        NaN                   NaN  \n",
      "25%                           NaN        NaN                   NaN  \n",
      "50%                           NaN        NaN                   NaN  \n",
      "75%                           NaN        NaN                   NaN  \n",
      "max                           NaN        NaN                   NaN  \n",
      "\n",
      "[11 rows x 68 columns]\n"
     ]
    }
   ],
   "source": [
    "df = w.wrangle_zillow()"
   ]
  },
  {
   "cell_type": "code",
   "execution_count": 3,
   "id": "0b843b5d",
   "metadata": {
    "scrolled": true
   },
   "outputs": [
    {
     "data": {
      "text/html": [
       "<div>\n",
       "<style scoped>\n",
       "    .dataframe tbody tr th:only-of-type {\n",
       "        vertical-align: middle;\n",
       "    }\n",
       "\n",
       "    .dataframe tbody tr th {\n",
       "        vertical-align: top;\n",
       "    }\n",
       "\n",
       "    .dataframe thead th {\n",
       "        text-align: right;\n",
       "    }\n",
       "</style>\n",
       "<table border=\"1\" class=\"dataframe\">\n",
       "  <thead>\n",
       "    <tr style=\"text-align: right;\">\n",
       "      <th></th>\n",
       "      <th>id</th>\n",
       "      <th>parcelid</th>\n",
       "      <th>bathroomcnt</th>\n",
       "      <th>bedroomcnt</th>\n",
       "      <th>buildingqualitytypeid</th>\n",
       "      <th>calculatedbathnbr</th>\n",
       "      <th>calculatedfinishedsquarefeet</th>\n",
       "      <th>finishedsquarefeet12</th>\n",
       "      <th>fips</th>\n",
       "      <th>fullbathcnt</th>\n",
       "      <th>...</th>\n",
       "      <th>structuretaxvaluedollarcnt</th>\n",
       "      <th>taxvaluedollarcnt</th>\n",
       "      <th>assessmentyear</th>\n",
       "      <th>landtaxvaluedollarcnt</th>\n",
       "      <th>taxamount</th>\n",
       "      <th>censustractandblock</th>\n",
       "      <th>logerror</th>\n",
       "      <th>transactiondate</th>\n",
       "      <th>heatingorsystemdesc</th>\n",
       "      <th>propertylandusedesc</th>\n",
       "    </tr>\n",
       "  </thead>\n",
       "  <tbody>\n",
       "    <tr>\n",
       "      <th>1</th>\n",
       "      <td>1387261</td>\n",
       "      <td>17052889</td>\n",
       "      <td>1.0</td>\n",
       "      <td>2.0</td>\n",
       "      <td>NaN</td>\n",
       "      <td>1.0</td>\n",
       "      <td>1465.0</td>\n",
       "      <td>1465.0</td>\n",
       "      <td>6111.0</td>\n",
       "      <td>1.0</td>\n",
       "      <td>...</td>\n",
       "      <td>88000.0</td>\n",
       "      <td>464000.0</td>\n",
       "      <td>2016.0</td>\n",
       "      <td>376000.0</td>\n",
       "      <td>5672.48</td>\n",
       "      <td>6.111001e+13</td>\n",
       "      <td>0.055619</td>\n",
       "      <td>2017-01-01</td>\n",
       "      <td>NaN</td>\n",
       "      <td>Single Family Residential</td>\n",
       "    </tr>\n",
       "    <tr>\n",
       "      <th>2</th>\n",
       "      <td>11677</td>\n",
       "      <td>14186244</td>\n",
       "      <td>2.0</td>\n",
       "      <td>3.0</td>\n",
       "      <td>NaN</td>\n",
       "      <td>2.0</td>\n",
       "      <td>1243.0</td>\n",
       "      <td>1243.0</td>\n",
       "      <td>6059.0</td>\n",
       "      <td>2.0</td>\n",
       "      <td>...</td>\n",
       "      <td>85289.0</td>\n",
       "      <td>564778.0</td>\n",
       "      <td>2016.0</td>\n",
       "      <td>479489.0</td>\n",
       "      <td>6488.30</td>\n",
       "      <td>6.059022e+13</td>\n",
       "      <td>0.005383</td>\n",
       "      <td>2017-01-01</td>\n",
       "      <td>NaN</td>\n",
       "      <td>Single Family Residential</td>\n",
       "    </tr>\n",
       "    <tr>\n",
       "      <th>3</th>\n",
       "      <td>2288172</td>\n",
       "      <td>12177905</td>\n",
       "      <td>3.0</td>\n",
       "      <td>4.0</td>\n",
       "      <td>8.0</td>\n",
       "      <td>3.0</td>\n",
       "      <td>2376.0</td>\n",
       "      <td>2376.0</td>\n",
       "      <td>6037.0</td>\n",
       "      <td>3.0</td>\n",
       "      <td>...</td>\n",
       "      <td>108918.0</td>\n",
       "      <td>145143.0</td>\n",
       "      <td>2016.0</td>\n",
       "      <td>36225.0</td>\n",
       "      <td>1777.51</td>\n",
       "      <td>6.037300e+13</td>\n",
       "      <td>-0.103410</td>\n",
       "      <td>2017-01-01</td>\n",
       "      <td>Central</td>\n",
       "      <td>Single Family Residential</td>\n",
       "    </tr>\n",
       "    <tr>\n",
       "      <th>4</th>\n",
       "      <td>1970746</td>\n",
       "      <td>10887214</td>\n",
       "      <td>3.0</td>\n",
       "      <td>3.0</td>\n",
       "      <td>8.0</td>\n",
       "      <td>3.0</td>\n",
       "      <td>1312.0</td>\n",
       "      <td>1312.0</td>\n",
       "      <td>6037.0</td>\n",
       "      <td>3.0</td>\n",
       "      <td>...</td>\n",
       "      <td>73681.0</td>\n",
       "      <td>119407.0</td>\n",
       "      <td>2016.0</td>\n",
       "      <td>45726.0</td>\n",
       "      <td>1533.89</td>\n",
       "      <td>6.037124e+13</td>\n",
       "      <td>0.006940</td>\n",
       "      <td>2017-01-01</td>\n",
       "      <td>Central</td>\n",
       "      <td>Condominium</td>\n",
       "    </tr>\n",
       "    <tr>\n",
       "      <th>5</th>\n",
       "      <td>1447245</td>\n",
       "      <td>17143294</td>\n",
       "      <td>2.0</td>\n",
       "      <td>3.0</td>\n",
       "      <td>NaN</td>\n",
       "      <td>2.0</td>\n",
       "      <td>1492.0</td>\n",
       "      <td>1492.0</td>\n",
       "      <td>6111.0</td>\n",
       "      <td>2.0</td>\n",
       "      <td>...</td>\n",
       "      <td>198640.0</td>\n",
       "      <td>331064.0</td>\n",
       "      <td>2016.0</td>\n",
       "      <td>132424.0</td>\n",
       "      <td>3508.10</td>\n",
       "      <td>6.111005e+13</td>\n",
       "      <td>-0.020526</td>\n",
       "      <td>2017-01-01</td>\n",
       "      <td>NaN</td>\n",
       "      <td>Condominium</td>\n",
       "    </tr>\n",
       "  </tbody>\n",
       "</table>\n",
       "<p>5 rows × 34 columns</p>\n",
       "</div>"
      ],
      "text/plain": [
       "        id  parcelid  bathroomcnt  bedroomcnt  buildingqualitytypeid  \\\n",
       "1  1387261  17052889          1.0         2.0                    NaN   \n",
       "2    11677  14186244          2.0         3.0                    NaN   \n",
       "3  2288172  12177905          3.0         4.0                    8.0   \n",
       "4  1970746  10887214          3.0         3.0                    8.0   \n",
       "5  1447245  17143294          2.0         3.0                    NaN   \n",
       "\n",
       "   calculatedbathnbr  calculatedfinishedsquarefeet  finishedsquarefeet12  \\\n",
       "1                1.0                        1465.0                1465.0   \n",
       "2                2.0                        1243.0                1243.0   \n",
       "3                3.0                        2376.0                2376.0   \n",
       "4                3.0                        1312.0                1312.0   \n",
       "5                2.0                        1492.0                1492.0   \n",
       "\n",
       "     fips  fullbathcnt  ...  structuretaxvaluedollarcnt  taxvaluedollarcnt  \\\n",
       "1  6111.0          1.0  ...                     88000.0           464000.0   \n",
       "2  6059.0          2.0  ...                     85289.0           564778.0   \n",
       "3  6037.0          3.0  ...                    108918.0           145143.0   \n",
       "4  6037.0          3.0  ...                     73681.0           119407.0   \n",
       "5  6111.0          2.0  ...                    198640.0           331064.0   \n",
       "\n",
       "   assessmentyear  landtaxvaluedollarcnt taxamount  censustractandblock  \\\n",
       "1          2016.0               376000.0   5672.48         6.111001e+13   \n",
       "2          2016.0               479489.0   6488.30         6.059022e+13   \n",
       "3          2016.0                36225.0   1777.51         6.037300e+13   \n",
       "4          2016.0                45726.0   1533.89         6.037124e+13   \n",
       "5          2016.0               132424.0   3508.10         6.111005e+13   \n",
       "\n",
       "   logerror  transactiondate  heatingorsystemdesc        propertylandusedesc  \n",
       "1  0.055619       2017-01-01                  NaN  Single Family Residential  \n",
       "2  0.005383       2017-01-01                  NaN  Single Family Residential  \n",
       "3 -0.103410       2017-01-01              Central  Single Family Residential  \n",
       "4  0.006940       2017-01-01              Central                Condominium  \n",
       "5 -0.020526       2017-01-01                  NaN                Condominium  \n",
       "\n",
       "[5 rows x 34 columns]"
      ]
     },
     "execution_count": 3,
     "metadata": {},
     "output_type": "execute_result"
    }
   ],
   "source": [
    "df.head()"
   ]
  },
  {
   "cell_type": "code",
   "execution_count": 4,
   "id": "c4197868",
   "metadata": {},
   "outputs": [
    {
     "name": "stdout",
     "output_type": "stream",
     "text": [
      "<class 'pandas.core.frame.DataFrame'>\n",
      "Int64Index: 60178 entries, 1 to 77379\n",
      "Data columns (total 34 columns):\n",
      " #   Column                        Non-Null Count  Dtype  \n",
      "---  ------                        --------------  -----  \n",
      " 0   id                            60178 non-null  int64  \n",
      " 1   parcelid                      60178 non-null  int64  \n",
      " 2   bathroomcnt                   60178 non-null  float64\n",
      " 3   bedroomcnt                    60178 non-null  float64\n",
      " 4   buildingqualitytypeid         47079 non-null  float64\n",
      " 5   calculatedbathnbr             60153 non-null  float64\n",
      " 6   calculatedfinishedsquarefeet  60177 non-null  float64\n",
      " 7   finishedsquarefeet12          59032 non-null  float64\n",
      " 8   fips                          60178 non-null  float64\n",
      " 9   fullbathcnt                   60153 non-null  float64\n",
      " 10  heatingorsystemtypeid         48582 non-null  float64\n",
      " 11  latitude                      60178 non-null  float64\n",
      " 12  longitude                     60178 non-null  float64\n",
      " 13  lotsizesquarefeet             57500 non-null  float64\n",
      " 14  propertycountylandusecode     60178 non-null  object \n",
      " 15  propertylandusetypeid         60178 non-null  float64\n",
      " 16  propertyzoningdesc            47404 non-null  object \n",
      " 17  rawcensustractandblock        60178 non-null  float64\n",
      " 18  regionidcity                  59303 non-null  float64\n",
      " 19  regionidcounty                60178 non-null  float64\n",
      " 20  regionidzip                   60173 non-null  float64\n",
      " 21  roomcnt                       60178 non-null  float64\n",
      " 22  unitcnt                       47432 non-null  float64\n",
      " 23  yearbuilt                     60154 non-null  float64\n",
      " 24  structuretaxvaluedollarcnt    60135 non-null  float64\n",
      " 25  taxvaluedollarcnt             60178 non-null  float64\n",
      " 26  assessmentyear                60178 non-null  float64\n",
      " 27  landtaxvaluedollarcnt         60178 non-null  float64\n",
      " 28  taxamount                     60176 non-null  float64\n",
      " 29  censustractandblock           60092 non-null  float64\n",
      " 30  logerror                      60178 non-null  float64\n",
      " 31  transactiondate               60178 non-null  object \n",
      " 32  heatingorsystemdesc           48582 non-null  object \n",
      " 33  propertylandusedesc           60178 non-null  object \n",
      "dtypes: float64(27), int64(2), object(5)\n",
      "memory usage: 16.1+ MB\n"
     ]
    }
   ],
   "source": [
    "df.info()"
   ]
  },
  {
   "cell_type": "code",
   "execution_count": 5,
   "id": "1a4b67d6",
   "metadata": {},
   "outputs": [
    {
     "data": {
      "text/plain": [
       "60153"
      ]
     },
     "execution_count": 5,
     "metadata": {},
     "output_type": "execute_result"
    }
   ],
   "source": [
    "# these two features are almost the exact same! Will drop calculatedbathnbr later, redundant.\n",
    "(df.bathroomcnt == df.calculatedbathnbr).sum()"
   ]
  },
  {
   "cell_type": "code",
   "execution_count": 6,
   "id": "f87629d4",
   "metadata": {},
   "outputs": [
    {
     "data": {
      "text/plain": [
       "59032"
      ]
     },
     "execution_count": 6,
     "metadata": {},
     "output_type": "execute_result"
    }
   ],
   "source": [
    "# these two features are the exact same! Will drop finishedsquarefeet12 later, redundant.\n",
    "(df.calculatedfinishedsquarefeet == df.finishedsquarefeet12).sum()"
   ]
  },
  {
   "cell_type": "code",
   "execution_count": 7,
   "id": "ddb1b580",
   "metadata": {},
   "outputs": [
    {
     "data": {
      "text/plain": [
       "54877"
      ]
     },
     "execution_count": 7,
     "metadata": {},
     "output_type": "execute_result"
    }
   ],
   "source": [
    "# these two features are almost the exact same! Will drop fullbathcnt later, redundant.\n",
    "(df.bathroomcnt == df.fullbathcnt).sum()"
   ]
  },
  {
   "cell_type": "markdown",
   "id": "0f799bf6",
   "metadata": {},
   "source": [
    "#### Lets understand our target value"
   ]
  },
  {
   "cell_type": "code",
   "execution_count": 8,
   "id": "924193f8",
   "metadata": {},
   "outputs": [
    {
     "data": {
      "text/plain": [
       "-4.65542037764"
      ]
     },
     "execution_count": 8,
     "metadata": {},
     "output_type": "execute_result"
    }
   ],
   "source": [
    "df.logerror.min()"
   ]
  },
  {
   "cell_type": "code",
   "execution_count": 9,
   "id": "c993b4c4",
   "metadata": {},
   "outputs": [
    {
     "data": {
      "text/plain": [
       "5.2629986498"
      ]
     },
     "execution_count": 9,
     "metadata": {},
     "output_type": "execute_result"
    }
   ],
   "source": [
    "df.logerror.max()"
   ]
  },
  {
   "cell_type": "markdown",
   "id": "8dd9cba5",
   "metadata": {},
   "source": [
    "The log error is the difference between the actual sales price and the predicted sales price expressed as the logarithm of the ratio of the actual sales price to the predicted sales price.\n",
    "\n",
    "A log error of zero indicates that the predicted sales price was exactly the same as the actual sales price, while a positive log error indicates that the predicted sales price was lower than the actual sales price, and a negative log error indicates that the predicted sales price was higher than the actual sales price.\n",
    "\n",
    "The use of log errors is a way to measure the accuracy of the mathematical models used in predicting property values. The lower the log error, the more accurate the model is considered to be. Real estate professionals use log error analysis to assess the reliability of automated valuation models and other data-driven tools used in the industry."
   ]
  },
  {
   "cell_type": "markdown",
   "id": "10d40462",
   "metadata": {},
   "source": [
    "## Prepare"
   ]
  },
  {
   "cell_type": "code",
   "execution_count": 10,
   "id": "f8159a9a",
   "metadata": {},
   "outputs": [],
   "source": [
    "df = df[df.propertylandusetypeid == (261 or 279)]"
   ]
  },
  {
   "cell_type": "code",
   "execution_count": 11,
   "id": "74a6ba51",
   "metadata": {},
   "outputs": [
    {
     "data": {
      "text/plain": [
       "id                                  0\n",
       "parcelid                            0\n",
       "bathroomcnt                         0\n",
       "bedroomcnt                          0\n",
       "buildingqualitytypeid           10412\n",
       "calculatedbathnbr                   9\n",
       "calculatedfinishedsquarefeet        0\n",
       "finishedsquarefeet12                8\n",
       "fips                                0\n",
       "fullbathcnt                         9\n",
       "heatingorsystemtypeid            9785\n",
       "latitude                            0\n",
       "longitude                           0\n",
       "lotsizesquarefeet                 262\n",
       "propertycountylandusecode           0\n",
       "propertylandusetypeid               0\n",
       "propertyzoningdesc              10363\n",
       "rawcensustractandblock              0\n",
       "regionidcity                      546\n",
       "regionidcounty                      0\n",
       "regionidzip                         4\n",
       "roomcnt                             0\n",
       "unitcnt                         10327\n",
       "yearbuilt                          19\n",
       "structuretaxvaluedollarcnt         39\n",
       "taxvaluedollarcnt                   0\n",
       "assessmentyear                      0\n",
       "landtaxvaluedollarcnt               0\n",
       "taxamount                           2\n",
       "censustractandblock                42\n",
       "logerror                            0\n",
       "transactiondate                     0\n",
       "heatingorsystemdesc              9785\n",
       "propertylandusedesc                 0\n",
       "dtype: int64"
      ]
     },
     "execution_count": 11,
     "metadata": {},
     "output_type": "execute_result"
    }
   ],
   "source": [
    "df.isnull().sum()"
   ]
  },
  {
   "cell_type": "code",
   "execution_count": 12,
   "id": "81d41291",
   "metadata": {},
   "outputs": [
    {
     "data": {
      "text/plain": [
       "1.0    33001\n",
       "2.0       17\n",
       "3.0        1\n",
       "Name: unitcnt, dtype: int64"
      ]
     },
     "execution_count": 12,
     "metadata": {},
     "output_type": "execute_result"
    }
   ],
   "source": [
    "# Even though we have filtered properties listed as single family homes, \n",
    "#  there's still properties with multiple units\n",
    "df.unitcnt.value_counts()"
   ]
  },
  {
   "cell_type": "code",
   "execution_count": 13,
   "id": "638369fb",
   "metadata": {},
   "outputs": [],
   "source": [
    "df = df[df.unitcnt == 1]"
   ]
  },
  {
   "cell_type": "code",
   "execution_count": 14,
   "id": "8eca26bd",
   "metadata": {},
   "outputs": [
    {
     "data": {
      "text/plain": [
       "(33001, 34)"
      ]
     },
     "execution_count": 14,
     "metadata": {},
     "output_type": "execute_result"
    }
   ],
   "source": [
    "df.shape"
   ]
  },
  {
   "cell_type": "code",
   "execution_count": 15,
   "id": "52dfc869",
   "metadata": {},
   "outputs": [
    {
     "data": {
      "text/plain": [
       "id                                0\n",
       "parcelid                          0\n",
       "bathroomcnt                       0\n",
       "bedroomcnt                        0\n",
       "buildingqualitytypeid           113\n",
       "calculatedbathnbr                 3\n",
       "calculatedfinishedsquarefeet      0\n",
       "finishedsquarefeet12              0\n",
       "fips                              0\n",
       "fullbathcnt                       3\n",
       "heatingorsystemtypeid            61\n",
       "latitude                          0\n",
       "longitude                         0\n",
       "lotsizesquarefeet               251\n",
       "propertycountylandusecode         0\n",
       "propertylandusetypeid             0\n",
       "propertyzoningdesc               64\n",
       "rawcensustractandblock            0\n",
       "regionidcity                    478\n",
       "regionidcounty                    0\n",
       "regionidzip                       2\n",
       "roomcnt                           0\n",
       "unitcnt                           0\n",
       "yearbuilt                         2\n",
       "structuretaxvaluedollarcnt       38\n",
       "taxvaluedollarcnt                 0\n",
       "assessmentyear                    0\n",
       "landtaxvaluedollarcnt             0\n",
       "taxamount                         2\n",
       "censustractandblock              34\n",
       "logerror                          0\n",
       "transactiondate                   0\n",
       "heatingorsystemdesc              61\n",
       "propertylandusedesc               0\n",
       "dtype: int64"
      ]
     },
     "execution_count": 15,
     "metadata": {},
     "output_type": "execute_result"
    }
   ],
   "source": [
    "df.isnull().sum()"
   ]
  },
  {
   "cell_type": "code",
   "execution_count": 16,
   "id": "2bda06ba",
   "metadata": {},
   "outputs": [],
   "source": [
    "def remove_outliers(df,feature_list):\n",
    "    ''' utilizes IQR to remove data which lies beyond \n",
    "    three standard deviations of the mean\n",
    "    '''\n",
    "    for feature in feature_list:\n",
    "    \n",
    "        #define interquartile range\n",
    "        Q1= df[feature].quantile(0.25)\n",
    "        Q3 = df[feature].quantile(0.75)\n",
    "        IQR = Q3 - Q1\n",
    "        #Set limits\n",
    "        upper_limit = Q3 + 3 * IQR\n",
    "        lower_limit = Q1 - 3 * IQR\n",
    "        #remove outliers\n",
    "        df = df[(df[feature] > lower_limit) & (df[feature] < upper_limit)]\n",
    "\n",
    "    return df"
   ]
  },
  {
   "cell_type": "code",
   "execution_count": 17,
   "id": "6323cbf7",
   "metadata": {},
   "outputs": [
    {
     "data": {
      "text/plain": [
       "Index(['id', 'parcelid', 'bathroomcnt', 'bedroomcnt', 'buildingqualitytypeid',\n",
       "       'calculatedbathnbr', 'calculatedfinishedsquarefeet',\n",
       "       'finishedsquarefeet12', 'fips', 'fullbathcnt', 'heatingorsystemtypeid',\n",
       "       'latitude', 'longitude', 'lotsizesquarefeet',\n",
       "       'propertycountylandusecode', 'propertylandusetypeid',\n",
       "       'propertyzoningdesc', 'rawcensustractandblock', 'regionidcity',\n",
       "       'regionidcounty', 'regionidzip', 'roomcnt', 'unitcnt', 'yearbuilt',\n",
       "       'structuretaxvaluedollarcnt', 'taxvaluedollarcnt', 'assessmentyear',\n",
       "       'landtaxvaluedollarcnt', 'taxamount', 'censustractandblock', 'logerror',\n",
       "       'transactiondate', 'heatingorsystemdesc', 'propertylandusedesc'],\n",
       "      dtype='object')"
      ]
     },
     "execution_count": 17,
     "metadata": {},
     "output_type": "execute_result"
    }
   ],
   "source": [
    "df.columns"
   ]
  },
  {
   "cell_type": "code",
   "execution_count": 18,
   "id": "f6ad0b25",
   "metadata": {},
   "outputs": [],
   "source": [
    "feature_list = ['bathroomcnt', 'bedroomcnt', 'calculatedbathnbr', 'calculatedfinishedsquarefeet',\n",
    "               'finishedsquarefeet12', 'fullbathcnt', 'lotsizesquarefeet', 'rawcensustractandblock', \n",
    "               'roomcnt', 'unitcnt', 'yearbuilt','assessmentyear','landtaxvaluedollarcnt', \n",
    "               'taxamount', 'censustractandblock']"
   ]
  },
  {
   "cell_type": "code",
   "execution_count": 19,
   "id": "fec05f42",
   "metadata": {},
   "outputs": [
    {
     "data": {
      "text/html": [
       "<div>\n",
       "<style scoped>\n",
       "    .dataframe tbody tr th:only-of-type {\n",
       "        vertical-align: middle;\n",
       "    }\n",
       "\n",
       "    .dataframe tbody tr th {\n",
       "        vertical-align: top;\n",
       "    }\n",
       "\n",
       "    .dataframe thead th {\n",
       "        text-align: right;\n",
       "    }\n",
       "</style>\n",
       "<table border=\"1\" class=\"dataframe\">\n",
       "  <thead>\n",
       "    <tr style=\"text-align: right;\">\n",
       "      <th></th>\n",
       "      <th>id</th>\n",
       "      <th>parcelid</th>\n",
       "      <th>bathroomcnt</th>\n",
       "      <th>bedroomcnt</th>\n",
       "      <th>buildingqualitytypeid</th>\n",
       "      <th>calculatedbathnbr</th>\n",
       "      <th>calculatedfinishedsquarefeet</th>\n",
       "      <th>finishedsquarefeet12</th>\n",
       "      <th>fips</th>\n",
       "      <th>fullbathcnt</th>\n",
       "      <th>...</th>\n",
       "      <th>structuretaxvaluedollarcnt</th>\n",
       "      <th>taxvaluedollarcnt</th>\n",
       "      <th>assessmentyear</th>\n",
       "      <th>landtaxvaluedollarcnt</th>\n",
       "      <th>taxamount</th>\n",
       "      <th>censustractandblock</th>\n",
       "      <th>logerror</th>\n",
       "      <th>transactiondate</th>\n",
       "      <th>heatingorsystemdesc</th>\n",
       "      <th>propertylandusedesc</th>\n",
       "    </tr>\n",
       "  </thead>\n",
       "  <tbody>\n",
       "  </tbody>\n",
       "</table>\n",
       "<p>0 rows × 34 columns</p>\n",
       "</div>"
      ],
      "text/plain": [
       "Empty DataFrame\n",
       "Columns: [id, parcelid, bathroomcnt, bedroomcnt, buildingqualitytypeid, calculatedbathnbr, calculatedfinishedsquarefeet, finishedsquarefeet12, fips, fullbathcnt, heatingorsystemtypeid, latitude, longitude, lotsizesquarefeet, propertycountylandusecode, propertylandusetypeid, propertyzoningdesc, rawcensustractandblock, regionidcity, regionidcounty, regionidzip, roomcnt, unitcnt, yearbuilt, structuretaxvaluedollarcnt, taxvaluedollarcnt, assessmentyear, landtaxvaluedollarcnt, taxamount, censustractandblock, logerror, transactiondate, heatingorsystemdesc, propertylandusedesc]\n",
       "Index: []\n",
       "\n",
       "[0 rows x 34 columns]"
      ]
     },
     "execution_count": 19,
     "metadata": {},
     "output_type": "execute_result"
    }
   ],
   "source": [
    "remove_outliers(df,feature_list)"
   ]
  },
  {
   "cell_type": "code",
   "execution_count": 20,
   "id": "3dcde87c",
   "metadata": {},
   "outputs": [
    {
     "data": {
      "text/plain": [
       "id                                0\n",
       "parcelid                          0\n",
       "bathroomcnt                       0\n",
       "bedroomcnt                        0\n",
       "buildingqualitytypeid           113\n",
       "calculatedbathnbr                 3\n",
       "calculatedfinishedsquarefeet      0\n",
       "finishedsquarefeet12              0\n",
       "fips                              0\n",
       "fullbathcnt                       3\n",
       "heatingorsystemtypeid            61\n",
       "latitude                          0\n",
       "longitude                         0\n",
       "lotsizesquarefeet               251\n",
       "propertycountylandusecode         0\n",
       "propertylandusetypeid             0\n",
       "propertyzoningdesc               64\n",
       "rawcensustractandblock            0\n",
       "regionidcity                    478\n",
       "regionidcounty                    0\n",
       "regionidzip                       2\n",
       "roomcnt                           0\n",
       "unitcnt                           0\n",
       "yearbuilt                         2\n",
       "structuretaxvaluedollarcnt       38\n",
       "taxvaluedollarcnt                 0\n",
       "assessmentyear                    0\n",
       "landtaxvaluedollarcnt             0\n",
       "taxamount                         2\n",
       "censustractandblock              34\n",
       "logerror                          0\n",
       "transactiondate                   0\n",
       "heatingorsystemdesc              61\n",
       "propertylandusedesc               0\n",
       "dtype: int64"
      ]
     },
     "execution_count": 20,
     "metadata": {},
     "output_type": "execute_result"
    }
   ],
   "source": [
    "df.isnull().sum()"
   ]
  },
  {
   "cell_type": "code",
   "execution_count": 21,
   "id": "322be93a",
   "metadata": {},
   "outputs": [
    {
     "data": {
      "text/plain": [
       "0"
      ]
     },
     "execution_count": 21,
     "metadata": {},
     "output_type": "execute_result"
    }
   ],
   "source": [
    "#rechecking to ensure no duplicates, I can drop this \n",
    "(df.id.value_counts() == 2).sum()"
   ]
  },
  {
   "cell_type": "code",
   "execution_count": 22,
   "id": "7915d1b5",
   "metadata": {},
   "outputs": [
    {
     "data": {
      "text/plain": [
       "1.0    33001\n",
       "Name: unitcnt, dtype: int64"
      ]
     },
     "execution_count": 22,
     "metadata": {},
     "output_type": "execute_result"
    }
   ],
   "source": [
    "# all single unit properties, I can drop this\n",
    "df.unitcnt.value_counts()"
   ]
  },
  {
   "cell_type": "code",
   "execution_count": 23,
   "id": "fbeb2c56",
   "metadata": {},
   "outputs": [
    {
     "data": {
      "text/plain": [
       "0.0    32998\n",
       "8.0        1\n",
       "6.0        1\n",
       "5.0        1\n",
       "Name: roomcnt, dtype: int64"
      ]
     },
     "execution_count": 23,
     "metadata": {},
     "output_type": "execute_result"
    }
   ],
   "source": [
    "# almost all are '0', this is nonsenical data. \n",
    "\n",
    "df.roomcnt.value_counts()"
   ]
  },
  {
   "cell_type": "code",
   "execution_count": 24,
   "id": "24cd1b5f",
   "metadata": {},
   "outputs": [
    {
     "data": {
      "text/plain": [
       "2016.0    33001\n",
       "Name: assessmentyear, dtype: int64"
      ]
     },
     "execution_count": 24,
     "metadata": {},
     "output_type": "execute_result"
    }
   ],
   "source": [
    "#everything assesed in 2016, I can drop this\n",
    "\n",
    "df.assessmentyear.value_counts()"
   ]
  },
  {
   "cell_type": "code",
   "execution_count": 25,
   "id": "aec21307",
   "metadata": {},
   "outputs": [
    {
     "data": {
      "text/plain": [
       "Single Family Residential    33001\n",
       "Name: propertylandusedesc, dtype: int64"
      ]
     },
     "execution_count": 25,
     "metadata": {},
     "output_type": "execute_result"
    }
   ],
   "source": [
    "#all are single family, I can drop this\n",
    "\n",
    "df.propertylandusedesc.value_counts()"
   ]
  },
  {
   "cell_type": "code",
   "execution_count": 26,
   "id": "cbe8d27a",
   "metadata": {},
   "outputs": [
    {
     "data": {
      "text/plain": [
       "3101.0    32998\n",
       "1286.0        3\n",
       "Name: regionidcounty, dtype: int64"
      ]
     },
     "execution_count": 26,
     "metadata": {},
     "output_type": "execute_result"
    }
   ],
   "source": [
    "# only 3 are unique, this is redundant I can drop this.\n",
    "\n",
    "df.regionidcounty.value_counts()"
   ]
  },
  {
   "cell_type": "code",
   "execution_count": 27,
   "id": "0a1e3a6a",
   "metadata": {},
   "outputs": [
    {
     "data": {
      "text/plain": [
       "12447.0    11116\n",
       "5534.0      1760\n",
       "40227.0     1485\n",
       "46298.0     1413\n",
       "54311.0      871\n",
       "           ...  \n",
       "16764.0        1\n",
       "10608.0        1\n",
       "10815.0        1\n",
       "41673.0        1\n",
       "21395.0        1\n",
       "Name: regionidcity, Length: 128, dtype: int64"
      ]
     },
     "execution_count": 27,
     "metadata": {},
     "output_type": "execute_result"
    }
   ],
   "source": [
    "#this col is missing 478 values but may be a good driver of the target value\n",
    "df.regionidcity.value_counts()"
   ]
  },
  {
   "cell_type": "code",
   "execution_count": 28,
   "id": "6719c944",
   "metadata": {},
   "outputs": [],
   "source": [
    "# We have rawcensustractandblock with 0 nulls and censustractandblock with 34 nulls. \n",
    "# Because my reseach showed me that the raw census tract would be less valuable for this \n",
    "# objective, we will vreate a function that will fill nulls in the prefered column from\n",
    "# the raw values in the raw value column, after, we will drop raw value column.\n",
    "\n",
    "def fill_null_with_corresponding_value(df, col1, col2):\n",
    "    \"\"\"\n",
    "    Fills null values in column2 with corresponding non-null values from column1 in a pandas DataFrame\n",
    "    \"\"\"\n",
    "    df_copy = df.copy()  # make a copy of the original dataframe to avoid modifying it\n",
    "    df_copy[col2].fillna(df_copy[col1], inplace=True)  # fill null values in column2 with corresponding values from column1\n",
    "    return df_copy\n"
   ]
  },
  {
   "cell_type": "code",
   "execution_count": 29,
   "id": "65ee7f9e",
   "metadata": {},
   "outputs": [],
   "source": [
    "df = fill_null_with_corresponding_value(df, col1='rawcensustractandblock', col2='censustractandblock')"
   ]
  },
  {
   "cell_type": "code",
   "execution_count": 30,
   "id": "fce7979b",
   "metadata": {},
   "outputs": [
    {
     "data": {
      "text/plain": [
       "id                                0\n",
       "parcelid                          0\n",
       "bathroomcnt                       0\n",
       "bedroomcnt                        0\n",
       "buildingqualitytypeid           113\n",
       "calculatedbathnbr                 3\n",
       "calculatedfinishedsquarefeet      0\n",
       "finishedsquarefeet12              0\n",
       "fips                              0\n",
       "fullbathcnt                       3\n",
       "heatingorsystemtypeid            61\n",
       "latitude                          0\n",
       "longitude                         0\n",
       "lotsizesquarefeet               251\n",
       "propertycountylandusecode         0\n",
       "propertylandusetypeid             0\n",
       "propertyzoningdesc               64\n",
       "rawcensustractandblock            0\n",
       "regionidcity                    478\n",
       "regionidcounty                    0\n",
       "regionidzip                       2\n",
       "roomcnt                           0\n",
       "unitcnt                           0\n",
       "yearbuilt                         2\n",
       "structuretaxvaluedollarcnt       38\n",
       "taxvaluedollarcnt                 0\n",
       "assessmentyear                    0\n",
       "landtaxvaluedollarcnt             0\n",
       "taxamount                         2\n",
       "censustractandblock               0\n",
       "logerror                          0\n",
       "transactiondate                   0\n",
       "heatingorsystemdesc              61\n",
       "propertylandusedesc               0\n",
       "dtype: int64"
      ]
     },
     "execution_count": 30,
     "metadata": {},
     "output_type": "execute_result"
    }
   ],
   "source": [
    "df.isnull().sum()"
   ]
  },
  {
   "cell_type": "code",
   "execution_count": 31,
   "id": "ce6e442c",
   "metadata": {},
   "outputs": [],
   "source": [
    "# drop reduundant or non-usefull columns\n",
    "\n",
    "cols_to_drop = ['id','parcelid','calculatedbathnbr','finishedsquarefeet12',\n",
    "                'fullbathcnt','unitcnt','rawcensustractandblock','propertyzoningdesc',\n",
    "                'regionidcity','heatingorsystemtypeid', 'propertylandusetypeid', \n",
    "                'regionidzip', 'assessmentyear', 'propertylandusedesc', \n",
    "                'regionidcounty', 'roomcnt']\n",
    "\n",
    "df = df.drop(columns = cols_to_drop)"
   ]
  },
  {
   "cell_type": "code",
   "execution_count": 32,
   "id": "4a79e39d",
   "metadata": {},
   "outputs": [
    {
     "data": {
      "text/plain": [
       "bathroomcnt                       0\n",
       "bedroomcnt                        0\n",
       "buildingqualitytypeid           113\n",
       "calculatedfinishedsquarefeet      0\n",
       "fips                              0\n",
       "latitude                          0\n",
       "longitude                         0\n",
       "lotsizesquarefeet               251\n",
       "propertycountylandusecode         0\n",
       "yearbuilt                         2\n",
       "structuretaxvaluedollarcnt       38\n",
       "taxvaluedollarcnt                 0\n",
       "landtaxvaluedollarcnt             0\n",
       "taxamount                         2\n",
       "censustractandblock               0\n",
       "logerror                          0\n",
       "transactiondate                   0\n",
       "heatingorsystemdesc              61\n",
       "dtype: int64"
      ]
     },
     "execution_count": 32,
     "metadata": {},
     "output_type": "execute_result"
    }
   ],
   "source": [
    "df.isnull().sum()"
   ]
  },
  {
   "cell_type": "markdown",
   "id": "f4a2f865",
   "metadata": {},
   "source": [
    "#### Lets look at each col with nulls to see how we will handle them"
   ]
  },
  {
   "cell_type": "code",
   "execution_count": 33,
   "id": "3f5f01d7",
   "metadata": {},
   "outputs": [
    {
     "data": {
      "text/plain": [
       "6.0     10128\n",
       "8.0      8169\n",
       "4.0      7890\n",
       "7.0      3383\n",
       "5.0      1296\n",
       "9.0      1115\n",
       "11.0      512\n",
       "10.0      223\n",
       "3.0        89\n",
       "12.0       78\n",
       "1.0         5\n",
       "Name: buildingqualitytypeid, dtype: int64"
      ]
     },
     "execution_count": 33,
     "metadata": {},
     "output_type": "execute_result"
    }
   ],
   "source": [
    "df.buildingqualitytypeid.value_counts()\n",
    "\n",
    "# Missing 113, values are 1-12, we will impute with mode"
   ]
  },
  {
   "cell_type": "code",
   "execution_count": 34,
   "id": "506df6c4",
   "metadata": {},
   "outputs": [
    {
     "data": {
      "text/plain": [
       "5000.0     144\n",
       "6000.0      89\n",
       "7499.0      88\n",
       "7500.0      80\n",
       "5999.0      79\n",
       "          ... \n",
       "40907.0      1\n",
       "65125.0      1\n",
       "16781.0      1\n",
       "2527.0       1\n",
       "47405.0      1\n",
       "Name: lotsizesquarefeet, Length: 11800, dtype: int64"
      ]
     },
     "execution_count": 34,
     "metadata": {},
     "output_type": "execute_result"
    }
   ],
   "source": [
    "df.lotsizesquarefeet.value_counts()\n",
    "\n",
    "# Missing 251, tons of different values, we will impute with mean"
   ]
  },
  {
   "cell_type": "code",
   "execution_count": 35,
   "id": "ff7d1dfe",
   "metadata": {},
   "outputs": [
    {
     "data": {
      "text/plain": [
       "100000.0    43\n",
       "200000.0    30\n",
       "90000.0     30\n",
       "32489.0     27\n",
       "95000.0     24\n",
       "            ..\n",
       "518378.0     1\n",
       "180459.0     1\n",
       "89068.0      1\n",
       "109665.0     1\n",
       "32797.0      1\n",
       "Name: structuretaxvaluedollarcnt, Length: 21976, dtype: int64"
      ]
     },
     "execution_count": 35,
     "metadata": {},
     "output_type": "execute_result"
    }
   ],
   "source": [
    "df.structuretaxvaluedollarcnt.value_counts()\n",
    "\n",
    "# Missing 38, tons of different values, we will impute with mean"
   ]
  },
  {
   "cell_type": "code",
   "execution_count": 36,
   "id": "03275468",
   "metadata": {},
   "outputs": [
    {
     "data": {
      "text/plain": [
       "Central       20541\n",
       "Floor/Wall    12333\n",
       "Solar            66\n",
       "Name: heatingorsystemdesc, dtype: int64"
      ]
     },
     "execution_count": 36,
     "metadata": {},
     "output_type": "execute_result"
    }
   ],
   "source": [
    "df.heatingorsystemdesc.value_counts()\n",
    "\n",
    "# 3 different values, we will impute with mode"
   ]
  },
  {
   "cell_type": "code",
   "execution_count": 37,
   "id": "4ff15721",
   "metadata": {},
   "outputs": [
    {
     "data": {
      "text/plain": [
       "1449.99     3\n",
       "1625.61     3\n",
       "3760.56     3\n",
       "2914.16     3\n",
       "4012.74     3\n",
       "           ..\n",
       "6751.78     1\n",
       "10542.35    1\n",
       "4907.85     1\n",
       "5739.12     1\n",
       "6317.15     1\n",
       "Name: taxamount, Length: 32489, dtype: int64"
      ]
     },
     "execution_count": 37,
     "metadata": {},
     "output_type": "execute_result"
    }
   ],
   "source": [
    "df.taxamount.value_counts()\n",
    "\n",
    "# missing 2 values, impute with mean"
   ]
  },
  {
   "cell_type": "code",
   "execution_count": 38,
   "id": "4e80be4d",
   "metadata": {},
   "outputs": [
    {
     "data": {
      "text/plain": [
       "1950.0    1440\n",
       "1955.0    1306\n",
       "1953.0    1276\n",
       "1954.0    1176\n",
       "1952.0    1071\n",
       "          ... \n",
       "1892.0       1\n",
       "1878.0       1\n",
       "1882.0       1\n",
       "1894.0       1\n",
       "2016.0       1\n",
       "Name: yearbuilt, Length: 131, dtype: int64"
      ]
     },
     "execution_count": 38,
     "metadata": {},
     "output_type": "execute_result"
    }
   ],
   "source": [
    "df.yearbuilt.value_counts()\n",
    "\n",
    "# missing 2 values, impute with mean"
   ]
  },
  {
   "cell_type": "code",
   "execution_count": 39,
   "id": "5756c760",
   "metadata": {},
   "outputs": [],
   "source": [
    "def mean_impute_columns(df, column_names):\n",
    "    \"\"\"\n",
    "    Applies mode imputation to fill null values in specific columns of a pandas DataFrame\n",
    "    \"\"\"\n",
    "    for column_name in column_names:\n",
    "        mean_value = df[column_name].mean()\n",
    "        df[column_name].fillna(mean_value, inplace=True)\n",
    "    return df"
   ]
  },
  {
   "cell_type": "code",
   "execution_count": 40,
   "id": "433bb1d6",
   "metadata": {},
   "outputs": [],
   "source": [
    "cols_to_impute_mean = ['lotsizesquarefeet','structuretaxvaluedollarcnt', 'yearbuilt']"
   ]
  },
  {
   "cell_type": "code",
   "execution_count": 41,
   "id": "1ac2ba3d",
   "metadata": {},
   "outputs": [],
   "source": [
    "df = mean_impute_columns(df, column_names=cols_to_impute_mean)"
   ]
  },
  {
   "cell_type": "code",
   "execution_count": 42,
   "id": "29884035",
   "metadata": {},
   "outputs": [],
   "source": [
    "def mode_impute_columns(df, column_names):\n",
    "    \"\"\"\n",
    "    Applies mode imputation to fill null values in specific columns of a pandas DataFrame\n",
    "    \"\"\"\n",
    "    for column_name in column_names:\n",
    "        mode_value = df[column_name].mode().iloc[0]\n",
    "        df[column_name].fillna(mode_value, inplace=True)\n",
    "    return df"
   ]
  },
  {
   "cell_type": "code",
   "execution_count": 43,
   "id": "4b131bd6",
   "metadata": {},
   "outputs": [],
   "source": [
    "cols_to_impute_mode = ['buildingqualitytypeid','heatingorsystemdesc']"
   ]
  },
  {
   "cell_type": "code",
   "execution_count": 44,
   "id": "42c8cbc8",
   "metadata": {},
   "outputs": [],
   "source": [
    "df = mode_impute_columns(df, column_names=cols_to_impute_mode)"
   ]
  },
  {
   "cell_type": "code",
   "execution_count": 45,
   "id": "3fd78c7f",
   "metadata": {},
   "outputs": [
    {
     "data": {
      "text/plain": [
       "bathroomcnt                     0\n",
       "bedroomcnt                      0\n",
       "buildingqualitytypeid           0\n",
       "calculatedfinishedsquarefeet    0\n",
       "fips                            0\n",
       "latitude                        0\n",
       "longitude                       0\n",
       "lotsizesquarefeet               0\n",
       "propertycountylandusecode       0\n",
       "yearbuilt                       0\n",
       "structuretaxvaluedollarcnt      0\n",
       "taxvaluedollarcnt               0\n",
       "landtaxvaluedollarcnt           0\n",
       "taxamount                       2\n",
       "censustractandblock             0\n",
       "logerror                        0\n",
       "transactiondate                 0\n",
       "heatingorsystemdesc             0\n",
       "dtype: int64"
      ]
     },
     "execution_count": 45,
     "metadata": {},
     "output_type": "execute_result"
    }
   ],
   "source": [
    "df.isnull().sum()"
   ]
  },
  {
   "cell_type": "code",
   "execution_count": 46,
   "id": "0181a6a1",
   "metadata": {},
   "outputs": [
    {
     "data": {
      "text/html": [
       "<div>\n",
       "<style scoped>\n",
       "    .dataframe tbody tr th:only-of-type {\n",
       "        vertical-align: middle;\n",
       "    }\n",
       "\n",
       "    .dataframe tbody tr th {\n",
       "        vertical-align: top;\n",
       "    }\n",
       "\n",
       "    .dataframe thead th {\n",
       "        text-align: right;\n",
       "    }\n",
       "</style>\n",
       "<table border=\"1\" class=\"dataframe\">\n",
       "  <thead>\n",
       "    <tr style=\"text-align: right;\">\n",
       "      <th></th>\n",
       "      <th>bathroomcnt</th>\n",
       "      <th>bedroomcnt</th>\n",
       "      <th>buildingqualitytypeid</th>\n",
       "      <th>calculatedfinishedsquarefeet</th>\n",
       "      <th>fips</th>\n",
       "      <th>latitude</th>\n",
       "      <th>longitude</th>\n",
       "      <th>lotsizesquarefeet</th>\n",
       "      <th>propertycountylandusecode</th>\n",
       "      <th>yearbuilt</th>\n",
       "      <th>structuretaxvaluedollarcnt</th>\n",
       "      <th>taxvaluedollarcnt</th>\n",
       "      <th>landtaxvaluedollarcnt</th>\n",
       "      <th>taxamount</th>\n",
       "      <th>censustractandblock</th>\n",
       "      <th>logerror</th>\n",
       "      <th>transactiondate</th>\n",
       "      <th>heatingorsystemdesc</th>\n",
       "    </tr>\n",
       "  </thead>\n",
       "  <tbody>\n",
       "    <tr>\n",
       "      <th>5334</th>\n",
       "      <td>3.0</td>\n",
       "      <td>4.0</td>\n",
       "      <td>7.0</td>\n",
       "      <td>2587.0</td>\n",
       "      <td>6037.0</td>\n",
       "      <td>34048939.0</td>\n",
       "      <td>-118544920.0</td>\n",
       "      <td>9775.000000</td>\n",
       "      <td>0104</td>\n",
       "      <td>1954.0</td>\n",
       "      <td>448740.000000</td>\n",
       "      <td>2030499.0</td>\n",
       "      <td>1581759.0</td>\n",
       "      <td>NaN</td>\n",
       "      <td>6.037263e+13</td>\n",
       "      <td>-0.043649</td>\n",
       "      <td>2017-01-25</td>\n",
       "      <td>Central</td>\n",
       "    </tr>\n",
       "    <tr>\n",
       "      <th>12330</th>\n",
       "      <td>3.0</td>\n",
       "      <td>4.0</td>\n",
       "      <td>9.0</td>\n",
       "      <td>2924.0</td>\n",
       "      <td>6037.0</td>\n",
       "      <td>34070466.0</td>\n",
       "      <td>-118462732.0</td>\n",
       "      <td>11069.506656</td>\n",
       "      <td>0101</td>\n",
       "      <td>1954.0</td>\n",
       "      <td>186721.813791</td>\n",
       "      <td>461231.0</td>\n",
       "      <td>461231.0</td>\n",
       "      <td>NaN</td>\n",
       "      <td>6.037265e+13</td>\n",
       "      <td>0.038192</td>\n",
       "      <td>2017-02-24</td>\n",
       "      <td>Central</td>\n",
       "    </tr>\n",
       "  </tbody>\n",
       "</table>\n",
       "</div>"
      ],
      "text/plain": [
       "       bathroomcnt  bedroomcnt  buildingqualitytypeid  \\\n",
       "5334           3.0         4.0                    7.0   \n",
       "12330          3.0         4.0                    9.0   \n",
       "\n",
       "       calculatedfinishedsquarefeet    fips    latitude    longitude  \\\n",
       "5334                         2587.0  6037.0  34048939.0 -118544920.0   \n",
       "12330                        2924.0  6037.0  34070466.0 -118462732.0   \n",
       "\n",
       "       lotsizesquarefeet propertycountylandusecode  yearbuilt  \\\n",
       "5334         9775.000000                      0104     1954.0   \n",
       "12330       11069.506656                      0101     1954.0   \n",
       "\n",
       "       structuretaxvaluedollarcnt  taxvaluedollarcnt  landtaxvaluedollarcnt  \\\n",
       "5334                448740.000000          2030499.0              1581759.0   \n",
       "12330               186721.813791           461231.0               461231.0   \n",
       "\n",
       "       taxamount  censustractandblock  logerror transactiondate  \\\n",
       "5334         NaN         6.037263e+13 -0.043649      2017-01-25   \n",
       "12330        NaN         6.037265e+13  0.038192      2017-02-24   \n",
       "\n",
       "      heatingorsystemdesc  \n",
       "5334              Central  \n",
       "12330             Central  "
      ]
     },
     "execution_count": 46,
     "metadata": {},
     "output_type": "execute_result"
    }
   ],
   "source": [
    "# since theres only 2 with nulls, and im not too comfortable imputing taxamount, I will drop these two. \n",
    "\n",
    "df[df['taxamount'].isnull()]"
   ]
  },
  {
   "cell_type": "code",
   "execution_count": 47,
   "id": "5fcdc568",
   "metadata": {},
   "outputs": [],
   "source": [
    "df = df.dropna()"
   ]
  },
  {
   "cell_type": "code",
   "execution_count": 48,
   "id": "bc89c26d",
   "metadata": {},
   "outputs": [
    {
     "name": "stdout",
     "output_type": "stream",
     "text": [
      "<class 'pandas.core.frame.DataFrame'>\n",
      "Int64Index: 32999 entries, 3 to 77379\n",
      "Data columns (total 18 columns):\n",
      " #   Column                        Non-Null Count  Dtype  \n",
      "---  ------                        --------------  -----  \n",
      " 0   bathroomcnt                   32999 non-null  float64\n",
      " 1   bedroomcnt                    32999 non-null  float64\n",
      " 2   buildingqualitytypeid         32999 non-null  float64\n",
      " 3   calculatedfinishedsquarefeet  32999 non-null  float64\n",
      " 4   fips                          32999 non-null  float64\n",
      " 5   latitude                      32999 non-null  float64\n",
      " 6   longitude                     32999 non-null  float64\n",
      " 7   lotsizesquarefeet             32999 non-null  float64\n",
      " 8   propertycountylandusecode     32999 non-null  object \n",
      " 9   yearbuilt                     32999 non-null  float64\n",
      " 10  structuretaxvaluedollarcnt    32999 non-null  float64\n",
      " 11  taxvaluedollarcnt             32999 non-null  float64\n",
      " 12  landtaxvaluedollarcnt         32999 non-null  float64\n",
      " 13  taxamount                     32999 non-null  float64\n",
      " 14  censustractandblock           32999 non-null  float64\n",
      " 15  logerror                      32999 non-null  float64\n",
      " 16  transactiondate               32999 non-null  object \n",
      " 17  heatingorsystemdesc           32999 non-null  object \n",
      "dtypes: float64(15), object(3)\n",
      "memory usage: 4.8+ MB\n"
     ]
    }
   ],
   "source": [
    "df.info()"
   ]
  },
  {
   "cell_type": "markdown",
   "id": "3086bda6",
   "metadata": {},
   "source": [
    "### Nulls gone, lets change out dtypes and rename cols:"
   ]
  },
  {
   "cell_type": "code",
   "execution_count": 49,
   "id": "713a69cc",
   "metadata": {},
   "outputs": [],
   "source": [
    "def convert_to_object_dtype(df, columns):\n",
    "    \"\"\"\n",
    "    Convert specified columns in a pandas DataFrame to object dtype\n",
    "    \"\"\"\n",
    "    for col in columns:\n",
    "        if col in df.columns:\n",
    "            df[col] = df[col].astype('object')\n",
    "    return df"
   ]
  },
  {
   "cell_type": "code",
   "execution_count": 50,
   "id": "bd82f4dd",
   "metadata": {},
   "outputs": [],
   "source": [
    "cols_to_obj = ['fips','hvac_type', 'propertylandusedesc','buildingqualitytypeid']\n",
    "\n",
    "df = convert_to_object_dtype(df, columns = cols_to_obj)"
   ]
  },
  {
   "cell_type": "code",
   "execution_count": null,
   "id": "e1d5c04c",
   "metadata": {},
   "outputs": [],
   "source": []
  },
  {
   "cell_type": "code",
   "execution_count": 51,
   "id": "101cbfbf",
   "metadata": {},
   "outputs": [
    {
     "name": "stdout",
     "output_type": "stream",
     "text": [
      "<class 'pandas.core.frame.DataFrame'>\n",
      "Int64Index: 32999 entries, 3 to 77379\n",
      "Data columns (total 18 columns):\n",
      " #   Column                        Non-Null Count  Dtype  \n",
      "---  ------                        --------------  -----  \n",
      " 0   bathroomcnt                   32999 non-null  float64\n",
      " 1   bedroomcnt                    32999 non-null  float64\n",
      " 2   buildingqualitytypeid         32999 non-null  object \n",
      " 3   calculatedfinishedsquarefeet  32999 non-null  float64\n",
      " 4   fips                          32999 non-null  object \n",
      " 5   latitude                      32999 non-null  float64\n",
      " 6   longitude                     32999 non-null  float64\n",
      " 7   lotsizesquarefeet             32999 non-null  float64\n",
      " 8   propertycountylandusecode     32999 non-null  object \n",
      " 9   yearbuilt                     32999 non-null  float64\n",
      " 10  structuretaxvaluedollarcnt    32999 non-null  float64\n",
      " 11  taxvaluedollarcnt             32999 non-null  float64\n",
      " 12  landtaxvaluedollarcnt         32999 non-null  float64\n",
      " 13  taxamount                     32999 non-null  float64\n",
      " 14  censustractandblock           32999 non-null  float64\n",
      " 15  logerror                      32999 non-null  float64\n",
      " 16  transactiondate               32999 non-null  object \n",
      " 17  heatingorsystemdesc           32999 non-null  object \n",
      "dtypes: float64(13), object(5)\n",
      "memory usage: 4.8+ MB\n"
     ]
    }
   ],
   "source": [
    "df.info()"
   ]
  },
  {
   "cell_type": "code",
   "execution_count": 52,
   "id": "5ca60a69",
   "metadata": {},
   "outputs": [],
   "source": [
    "#rename cols to promote readability\n",
    "df = df.rename(columns={'bathroomcnt': 'bathrooms', 'bedroomcnt': 'bedrooms', \n",
    "                        'buildingqualitytypeid': 'quality_id', 'calculatedfinishedsquarefeet': 'sqft',\n",
    "                        'fips': 'county', 'lotsizesquarefeet': 'lot_sqft',\n",
    "                        'propertycountylandusecode': 'prop_use_code', 'yearbuilt': 'year_built',\n",
    "                        'structuretaxvaluedollarcnt': 'structure_value', 'taxvaluedollarcnt': 'home_value',\n",
    "                        'censustractandblock': 'tract&block', 'transactiondate': 'txn_date',\n",
    "                        'heatingorsystemdesc': 'hvac_type', 'landtaxvaluedollarcnt': 'land_value'})"
   ]
  },
  {
   "cell_type": "code",
   "execution_count": 53,
   "id": "ae3068ca",
   "metadata": {},
   "outputs": [],
   "source": [
    "# convert fip code to county name\n",
    "df['county'] = df['county'].replace({6037.0: 'los_angeles', 6059.0: 'orange', 6111.0: 'ventura'})"
   ]
  },
  {
   "cell_type": "code",
   "execution_count": 54,
   "id": "a19c89c4",
   "metadata": {},
   "outputs": [
    {
     "data": {
      "text/html": [
       "<div>\n",
       "<style scoped>\n",
       "    .dataframe tbody tr th:only-of-type {\n",
       "        vertical-align: middle;\n",
       "    }\n",
       "\n",
       "    .dataframe tbody tr th {\n",
       "        vertical-align: top;\n",
       "    }\n",
       "\n",
       "    .dataframe thead th {\n",
       "        text-align: right;\n",
       "    }\n",
       "</style>\n",
       "<table border=\"1\" class=\"dataframe\">\n",
       "  <thead>\n",
       "    <tr style=\"text-align: right;\">\n",
       "      <th></th>\n",
       "      <th>bathrooms</th>\n",
       "      <th>bedrooms</th>\n",
       "      <th>quality_id</th>\n",
       "      <th>sqft</th>\n",
       "      <th>county</th>\n",
       "      <th>latitude</th>\n",
       "      <th>longitude</th>\n",
       "      <th>lot_sqft</th>\n",
       "      <th>prop_use_code</th>\n",
       "      <th>year_built</th>\n",
       "      <th>structure_value</th>\n",
       "      <th>home_value</th>\n",
       "      <th>land_value</th>\n",
       "      <th>taxamount</th>\n",
       "      <th>tract&amp;block</th>\n",
       "      <th>logerror</th>\n",
       "      <th>txn_date</th>\n",
       "      <th>hvac_type</th>\n",
       "    </tr>\n",
       "  </thead>\n",
       "  <tbody>\n",
       "    <tr>\n",
       "      <th>3</th>\n",
       "      <td>3.0</td>\n",
       "      <td>4.0</td>\n",
       "      <td>8.0</td>\n",
       "      <td>2376.0</td>\n",
       "      <td>los_angeles</td>\n",
       "      <td>34245180.0</td>\n",
       "      <td>-118240722.0</td>\n",
       "      <td>13038.0</td>\n",
       "      <td>0101</td>\n",
       "      <td>1970.0</td>\n",
       "      <td>108918.0</td>\n",
       "      <td>145143.0</td>\n",
       "      <td>36225.0</td>\n",
       "      <td>1777.51</td>\n",
       "      <td>6.037300e+13</td>\n",
       "      <td>-0.103410</td>\n",
       "      <td>2017-01-01</td>\n",
       "      <td>Central</td>\n",
       "    </tr>\n",
       "    <tr>\n",
       "      <th>6</th>\n",
       "      <td>3.0</td>\n",
       "      <td>4.0</td>\n",
       "      <td>9.0</td>\n",
       "      <td>2962.0</td>\n",
       "      <td>los_angeles</td>\n",
       "      <td>34145202.0</td>\n",
       "      <td>-118179824.0</td>\n",
       "      <td>63000.0</td>\n",
       "      <td>0101</td>\n",
       "      <td>1950.0</td>\n",
       "      <td>276684.0</td>\n",
       "      <td>773303.0</td>\n",
       "      <td>496619.0</td>\n",
       "      <td>9516.26</td>\n",
       "      <td>6.037461e+13</td>\n",
       "      <td>-0.001011</td>\n",
       "      <td>2017-01-01</td>\n",
       "      <td>Central</td>\n",
       "    </tr>\n",
       "    <tr>\n",
       "      <th>8</th>\n",
       "      <td>3.0</td>\n",
       "      <td>4.0</td>\n",
       "      <td>9.0</td>\n",
       "      <td>3039.0</td>\n",
       "      <td>los_angeles</td>\n",
       "      <td>33960230.0</td>\n",
       "      <td>-118006914.0</td>\n",
       "      <td>20028.0</td>\n",
       "      <td>0100</td>\n",
       "      <td>1970.0</td>\n",
       "      <td>177527.0</td>\n",
       "      <td>220583.0</td>\n",
       "      <td>43056.0</td>\n",
       "      <td>3104.19</td>\n",
       "      <td>6.037500e+13</td>\n",
       "      <td>-0.040966</td>\n",
       "      <td>2017-01-02</td>\n",
       "      <td>Central</td>\n",
       "    </tr>\n",
       "    <tr>\n",
       "      <th>10</th>\n",
       "      <td>3.0</td>\n",
       "      <td>4.0</td>\n",
       "      <td>8.0</td>\n",
       "      <td>2540.0</td>\n",
       "      <td>los_angeles</td>\n",
       "      <td>34434971.0</td>\n",
       "      <td>-118464390.0</td>\n",
       "      <td>10384.0</td>\n",
       "      <td>0101</td>\n",
       "      <td>1999.0</td>\n",
       "      <td>271715.0</td>\n",
       "      <td>430108.0</td>\n",
       "      <td>158393.0</td>\n",
       "      <td>6103.36</td>\n",
       "      <td>6.037920e+13</td>\n",
       "      <td>0.005963</td>\n",
       "      <td>2017-01-02</td>\n",
       "      <td>Central</td>\n",
       "    </tr>\n",
       "    <tr>\n",
       "      <th>18</th>\n",
       "      <td>1.0</td>\n",
       "      <td>2.0</td>\n",
       "      <td>4.0</td>\n",
       "      <td>1146.0</td>\n",
       "      <td>los_angeles</td>\n",
       "      <td>34024040.0</td>\n",
       "      <td>-118159090.0</td>\n",
       "      <td>4657.0</td>\n",
       "      <td>0100</td>\n",
       "      <td>1939.0</td>\n",
       "      <td>127960.0</td>\n",
       "      <td>273745.0</td>\n",
       "      <td>145785.0</td>\n",
       "      <td>3739.02</td>\n",
       "      <td>6.037532e+13</td>\n",
       "      <td>-0.035085</td>\n",
       "      <td>2017-01-02</td>\n",
       "      <td>Floor/Wall</td>\n",
       "    </tr>\n",
       "  </tbody>\n",
       "</table>\n",
       "</div>"
      ],
      "text/plain": [
       "    bathrooms  bedrooms quality_id    sqft       county    latitude  \\\n",
       "3         3.0       4.0        8.0  2376.0  los_angeles  34245180.0   \n",
       "6         3.0       4.0        9.0  2962.0  los_angeles  34145202.0   \n",
       "8         3.0       4.0        9.0  3039.0  los_angeles  33960230.0   \n",
       "10        3.0       4.0        8.0  2540.0  los_angeles  34434971.0   \n",
       "18        1.0       2.0        4.0  1146.0  los_angeles  34024040.0   \n",
       "\n",
       "      longitude  lot_sqft prop_use_code  year_built  structure_value  \\\n",
       "3  -118240722.0   13038.0          0101      1970.0         108918.0   \n",
       "6  -118179824.0   63000.0          0101      1950.0         276684.0   \n",
       "8  -118006914.0   20028.0          0100      1970.0         177527.0   \n",
       "10 -118464390.0   10384.0          0101      1999.0         271715.0   \n",
       "18 -118159090.0    4657.0          0100      1939.0         127960.0   \n",
       "\n",
       "    home_value  land_value  taxamount   tract&block  logerror    txn_date  \\\n",
       "3     145143.0     36225.0    1777.51  6.037300e+13 -0.103410  2017-01-01   \n",
       "6     773303.0    496619.0    9516.26  6.037461e+13 -0.001011  2017-01-01   \n",
       "8     220583.0     43056.0    3104.19  6.037500e+13 -0.040966  2017-01-02   \n",
       "10    430108.0    158393.0    6103.36  6.037920e+13  0.005963  2017-01-02   \n",
       "18    273745.0    145785.0    3739.02  6.037532e+13 -0.035085  2017-01-02   \n",
       "\n",
       "     hvac_type  \n",
       "3      Central  \n",
       "6      Central  \n",
       "8      Central  \n",
       "10     Central  \n",
       "18  Floor/Wall  "
      ]
     },
     "execution_count": 54,
     "metadata": {},
     "output_type": "execute_result"
    }
   ],
   "source": [
    "df.head()"
   ]
  },
  {
   "cell_type": "code",
   "execution_count": null,
   "id": "b587461d",
   "metadata": {},
   "outputs": [],
   "source": []
  },
  {
   "cell_type": "code",
   "execution_count": 55,
   "id": "52b9b0f1",
   "metadata": {},
   "outputs": [],
   "source": [
    "def split_zillow(df):\n",
    "    '''\n",
    "    split_zillow will take in a single pandas df referencing a cleaned\n",
    "    version of zillow data, and will then split the data into train,\n",
    "    validate, and test sets stratifying on home_value\n",
    "    \n",
    "    Arguments: df. a pandas dataframe\n",
    "    return: train, validate, test: the pandas df split from orginal df \n",
    "    '''\n",
    "    train_val, test = train_test_split(df, random_state = 828, train_size = 0.8)\n",
    "    train, validate = train_test_split(train_val, random_state = 828, train_size = 0.7)\n",
    "    return train, validate, test"
   ]
  },
  {
   "cell_type": "code",
   "execution_count": 56,
   "id": "ec797e37",
   "metadata": {},
   "outputs": [],
   "source": [
    "train, validate, test = split_zillow(df)"
   ]
  },
  {
   "cell_type": "code",
   "execution_count": 57,
   "id": "438a2005",
   "metadata": {},
   "outputs": [
    {
     "data": {
      "text/plain": [
       "((18479, 18), (7920, 18), (6600, 18))"
      ]
     },
     "execution_count": 57,
     "metadata": {},
     "output_type": "execute_result"
    }
   ],
   "source": [
    "train.shape, validate.shape, test.shape"
   ]
  },
  {
   "cell_type": "code",
   "execution_count": 58,
   "id": "a849ad97",
   "metadata": {},
   "outputs": [
    {
     "data": {
      "image/png": "[encoded data removed]",
      "text/plain": [
       "<Figure size 500x500 with 1 Axes>"
      ]
     },
     "metadata": {},
     "output_type": "display_data"
    }
   ],
   "source": [
    "\n",
    "# Make the Plot\n",
    "target = sns.displot(train['logerror'],color='teal')\n",
    "target.set_axis_labels(\"logerror\", \"Count of Properties\")\n",
    "target.set(title='Distribution of Target Variable (Logerror)')\n",
    "# add a vertical line for the mean of the 'home_value' column\n",
    "mean_value = train['logerror'].mean()\n",
    "plt.axvline(mean_value, color='r', linestyle='--')\n",
    "plt.show()"
   ]
  },
  {
   "cell_type": "code",
   "execution_count": 59,
   "id": "d0c2fa37",
   "metadata": {},
   "outputs": [
    {
     "data": {
      "text/plain": [
       "Index(['bathrooms', 'bedrooms', 'quality_id', 'sqft', 'county', 'latitude',\n",
       "       'longitude', 'lot_sqft', 'prop_use_code', 'year_built',\n",
       "       'structure_value', 'home_value', 'land_value', 'taxamount',\n",
       "       'tract&block', 'logerror', 'txn_date', 'hvac_type'],\n",
       "      dtype='object')"
      ]
     },
     "execution_count": 59,
     "metadata": {},
     "output_type": "execute_result"
    }
   ],
   "source": [
    "df.columns"
   ]
  },
  {
   "cell_type": "code",
   "execution_count": 60,
   "id": "c8da69a1",
   "metadata": {},
   "outputs": [],
   "source": [
    "feats_to_scale = ['bathrooms', 'bedrooms', 'sqft','lot_sqft', 'year_built',\n",
    "                  'structure_value', 'home_value', 'land_value', 'taxamount']\n",
    "\n",
    "cols_scaled = [col + '_scaled' for col in feats_to_scale]\n",
    "\n",
    "df[cols_scaled] = MinMaxScaler().fit_transform(df[feats_to_scale])"
   ]
  },
  {
   "cell_type": "code",
   "execution_count": 61,
   "id": "ece9eb85",
   "metadata": {},
   "outputs": [
    {
     "data": {
      "text/html": [
       "<div>\n",
       "<style scoped>\n",
       "    .dataframe tbody tr th:only-of-type {\n",
       "        vertical-align: middle;\n",
       "    }\n",
       "\n",
       "    .dataframe tbody tr th {\n",
       "        vertical-align: top;\n",
       "    }\n",
       "\n",
       "    .dataframe thead th {\n",
       "        text-align: right;\n",
       "    }\n",
       "</style>\n",
       "<table border=\"1\" class=\"dataframe\">\n",
       "  <thead>\n",
       "    <tr style=\"text-align: right;\">\n",
       "      <th></th>\n",
       "      <th>bathrooms</th>\n",
       "      <th>bedrooms</th>\n",
       "      <th>quality_id</th>\n",
       "      <th>sqft</th>\n",
       "      <th>county</th>\n",
       "      <th>latitude</th>\n",
       "      <th>longitude</th>\n",
       "      <th>lot_sqft</th>\n",
       "      <th>prop_use_code</th>\n",
       "      <th>year_built</th>\n",
       "      <th>...</th>\n",
       "      <th>hvac_type</th>\n",
       "      <th>bathrooms_scaled</th>\n",
       "      <th>bedrooms_scaled</th>\n",
       "      <th>sqft_scaled</th>\n",
       "      <th>lot_sqft_scaled</th>\n",
       "      <th>year_built_scaled</th>\n",
       "      <th>structure_value_scaled</th>\n",
       "      <th>home_value_scaled</th>\n",
       "      <th>land_value_scaled</th>\n",
       "      <th>taxamount_scaled</th>\n",
       "    </tr>\n",
       "  </thead>\n",
       "  <tbody>\n",
       "    <tr>\n",
       "      <th>3</th>\n",
       "      <td>3.0</td>\n",
       "      <td>4.0</td>\n",
       "      <td>8.0</td>\n",
       "      <td>2376.0</td>\n",
       "      <td>los_angeles</td>\n",
       "      <td>34245180.0</td>\n",
       "      <td>-118240722.0</td>\n",
       "      <td>13038.0</td>\n",
       "      <td>0101</td>\n",
       "      <td>1970.0</td>\n",
       "      <td>...</td>\n",
       "      <td>Central</td>\n",
       "      <td>0.230769</td>\n",
       "      <td>0.363636</td>\n",
       "      <td>0.102126</td>\n",
       "      <td>0.004285</td>\n",
       "      <td>0.666667</td>\n",
       "      <td>0.011865</td>\n",
       "      <td>0.005679</td>\n",
       "      <td>0.001615</td>\n",
       "      <td>0.005695</td>\n",
       "    </tr>\n",
       "    <tr>\n",
       "      <th>6</th>\n",
       "      <td>3.0</td>\n",
       "      <td>4.0</td>\n",
       "      <td>9.0</td>\n",
       "      <td>2962.0</td>\n",
       "      <td>los_angeles</td>\n",
       "      <td>34145202.0</td>\n",
       "      <td>-118179824.0</td>\n",
       "      <td>63000.0</td>\n",
       "      <td>0101</td>\n",
       "      <td>1950.0</td>\n",
       "      <td>...</td>\n",
       "      <td>Central</td>\n",
       "      <td>0.230769</td>\n",
       "      <td>0.363636</td>\n",
       "      <td>0.129035</td>\n",
       "      <td>0.021934</td>\n",
       "      <td>0.521739</td>\n",
       "      <td>0.030170</td>\n",
       "      <td>0.030429</td>\n",
       "      <td>0.022227</td>\n",
       "      <td>0.032300</td>\n",
       "    </tr>\n",
       "    <tr>\n",
       "      <th>8</th>\n",
       "      <td>3.0</td>\n",
       "      <td>4.0</td>\n",
       "      <td>9.0</td>\n",
       "      <td>3039.0</td>\n",
       "      <td>los_angeles</td>\n",
       "      <td>33960230.0</td>\n",
       "      <td>-118006914.0</td>\n",
       "      <td>20028.0</td>\n",
       "      <td>0100</td>\n",
       "      <td>1970.0</td>\n",
       "      <td>...</td>\n",
       "      <td>Central</td>\n",
       "      <td>0.230769</td>\n",
       "      <td>0.363636</td>\n",
       "      <td>0.132571</td>\n",
       "      <td>0.006754</td>\n",
       "      <td>0.666667</td>\n",
       "      <td>0.019351</td>\n",
       "      <td>0.008652</td>\n",
       "      <td>0.001920</td>\n",
       "      <td>0.010256</td>\n",
       "    </tr>\n",
       "    <tr>\n",
       "      <th>10</th>\n",
       "      <td>3.0</td>\n",
       "      <td>4.0</td>\n",
       "      <td>8.0</td>\n",
       "      <td>2540.0</td>\n",
       "      <td>los_angeles</td>\n",
       "      <td>34434971.0</td>\n",
       "      <td>-118464390.0</td>\n",
       "      <td>10384.0</td>\n",
       "      <td>0101</td>\n",
       "      <td>1999.0</td>\n",
       "      <td>...</td>\n",
       "      <td>Central</td>\n",
       "      <td>0.230769</td>\n",
       "      <td>0.363636</td>\n",
       "      <td>0.109657</td>\n",
       "      <td>0.003347</td>\n",
       "      <td>0.876812</td>\n",
       "      <td>0.029628</td>\n",
       "      <td>0.016907</td>\n",
       "      <td>0.007084</td>\n",
       "      <td>0.020567</td>\n",
       "    </tr>\n",
       "    <tr>\n",
       "      <th>18</th>\n",
       "      <td>1.0</td>\n",
       "      <td>2.0</td>\n",
       "      <td>4.0</td>\n",
       "      <td>1146.0</td>\n",
       "      <td>los_angeles</td>\n",
       "      <td>34024040.0</td>\n",
       "      <td>-118159090.0</td>\n",
       "      <td>4657.0</td>\n",
       "      <td>0100</td>\n",
       "      <td>1939.0</td>\n",
       "      <td>...</td>\n",
       "      <td>Floor/Wall</td>\n",
       "      <td>0.076923</td>\n",
       "      <td>0.181818</td>\n",
       "      <td>0.045644</td>\n",
       "      <td>0.001324</td>\n",
       "      <td>0.442029</td>\n",
       "      <td>0.013942</td>\n",
       "      <td>0.010746</td>\n",
       "      <td>0.006520</td>\n",
       "      <td>0.012439</td>\n",
       "    </tr>\n",
       "  </tbody>\n",
       "</table>\n",
       "<p>5 rows × 27 columns</p>\n",
       "</div>"
      ],
      "text/plain": [
       "    bathrooms  bedrooms quality_id    sqft       county    latitude  \\\n",
       "3         3.0       4.0        8.0  2376.0  los_angeles  34245180.0   \n",
       "6         3.0       4.0        9.0  2962.0  los_angeles  34145202.0   \n",
       "8         3.0       4.0        9.0  3039.0  los_angeles  33960230.0   \n",
       "10        3.0       4.0        8.0  2540.0  los_angeles  34434971.0   \n",
       "18        1.0       2.0        4.0  1146.0  los_angeles  34024040.0   \n",
       "\n",
       "      longitude  lot_sqft prop_use_code  year_built  ...   hvac_type  \\\n",
       "3  -118240722.0   13038.0          0101      1970.0  ...     Central   \n",
       "6  -118179824.0   63000.0          0101      1950.0  ...     Central   \n",
       "8  -118006914.0   20028.0          0100      1970.0  ...     Central   \n",
       "10 -118464390.0   10384.0          0101      1999.0  ...     Central   \n",
       "18 -118159090.0    4657.0          0100      1939.0  ...  Floor/Wall   \n",
       "\n",
       "    bathrooms_scaled  bedrooms_scaled  sqft_scaled  lot_sqft_scaled  \\\n",
       "3           0.230769         0.363636     0.102126         0.004285   \n",
       "6           0.230769         0.363636     0.129035         0.021934   \n",
       "8           0.230769         0.363636     0.132571         0.006754   \n",
       "10          0.230769         0.363636     0.109657         0.003347   \n",
       "18          0.076923         0.181818     0.045644         0.001324   \n",
       "\n",
       "    year_built_scaled structure_value_scaled home_value_scaled  \\\n",
       "3            0.666667               0.011865          0.005679   \n",
       "6            0.521739               0.030170          0.030429   \n",
       "8            0.666667               0.019351          0.008652   \n",
       "10           0.876812               0.029628          0.016907   \n",
       "18           0.442029               0.013942          0.010746   \n",
       "\n",
       "    land_value_scaled  taxamount_scaled  \n",
       "3            0.001615          0.005695  \n",
       "6            0.022227          0.032300  \n",
       "8            0.001920          0.010256  \n",
       "10           0.007084          0.020567  \n",
       "18           0.006520          0.012439  \n",
       "\n",
       "[5 rows x 27 columns]"
      ]
     },
     "execution_count": 61,
     "metadata": {},
     "output_type": "execute_result"
    }
   ],
   "source": [
    "df.head()"
   ]
  },
  {
   "cell_type": "code",
   "execution_count": 63,
   "id": "9810a566",
   "metadata": {},
   "outputs": [
    {
     "data": {
      "text/plain": [
       "Index(['bathrooms', 'bedrooms', 'quality_id', 'sqft', 'county', 'latitude',\n",
       "       'longitude', 'lot_sqft', 'prop_use_code', 'year_built',\n",
       "       'structure_value', 'home_value', 'land_value', 'taxamount',\n",
       "       'tract&block', 'logerror', 'txn_date', 'hvac_type', 'bathrooms_scaled',\n",
       "       'bedrooms_scaled', 'sqft_scaled', 'lot_sqft_scaled',\n",
       "       'year_built_scaled', 'structure_value_scaled', 'home_value_scaled',\n",
       "       'land_value_scaled', 'taxamount_scaled'],\n",
       "      dtype='object')"
      ]
     },
     "execution_count": 63,
     "metadata": {},
     "output_type": "execute_result"
    }
   ],
   "source": [
    "df.columns"
   ]
  },
  {
   "cell_type": "code",
   "execution_count": 64,
   "id": "13ce1984",
   "metadata": {},
   "outputs": [],
   "source": [
    "scaled_cols = ['bathrooms_scaled','bedrooms_scaled', 'sqft_scaled', \n",
    "               'lot_sqft_scaled','year_built_scaled', 'structure_value_scaled', \n",
    "               'home_value_scaled','land_value_scaled', 'taxamount_scaled']"
   ]
  },
  {
   "cell_type": "code",
   "execution_count": 70,
   "id": "0d5a8c36",
   "metadata": {},
   "outputs": [
    {
     "data": {
      "image/png": "[encoded data removed]",
      "text/plain": [
       "<Figure size 640x480 with 1 Axes>"
      ]
     },
     "metadata": {},
     "output_type": "display_data"
    }
   ],
   "source": [
    "# plot the scaled data\n",
    "plt.scatter(df.bathrooms_scaled, df.logerror)\n",
    "plt.title('Scatter plot of Scaled Bathroom Data')\n",
    "plt.show()"
   ]
  },
  {
   "cell_type": "code",
   "execution_count": 71,
   "id": "7bd4688b",
   "metadata": {},
   "outputs": [
    {
     "data": {
      "image/png": "[encoded data removed]",
      "text/plain": [
       "<Figure size 640x480 with 1 Axes>"
      ]
     },
     "metadata": {},
     "output_type": "display_data"
    }
   ],
   "source": [
    "# plot the scaled data\n",
    "plt.scatter(df.bedrooms_scaled, df.logerror)\n",
    "plt.title('Scatter plot of Scaled Bathroom Data')\n",
    "plt.show()"
   ]
  },
  {
   "cell_type": "code",
   "execution_count": null,
   "id": "7b9babf1",
   "metadata": {},
   "outputs": [],
   "source": []
  }
 ],
 "metadata": {
  "kernelspec": {
   "display_name": "Python 3 (ipykernel)",
   "language": "python",
   "name": "python3"
  },
  "language_info": {
   "codemirror_mode": {
    "name": "ipython",
    "version": 3
   },
   "file_extension": ".py",
   "mimetype": "text/x-python",
   "name": "python",
   "nbconvert_exporter": "python",
   "pygments_lexer": "ipython3",
   "version": "3.9.13"
  }
 },
 "nbformat": 4,
 "nbformat_minor": 5
}
