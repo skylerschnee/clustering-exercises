{
 "cells": [
  {
   "cell_type": "code",
   "execution_count": 1,
   "id": "0bd00bf9-676b-450d-b88e-c2ed1af02206",
   "metadata": {},
   "outputs": [],
   "source": [
    "# making clusters:\n",
    "# tabular data\n",
    "import pandas as pd\n",
    "import numpy as np\n",
    "# visualizations\n",
    "import matplotlib.pyplot as plt\n",
    "import seaborn as sns\n",
    "# sklearn:\n",
    "# the thing that will do the clustering:\n",
    "from sklearn.cluster import KMeans\n",
    "# the thing that will do the scaling:\n",
    "from sklearn.preprocessing import MinMaxScaler\n",
    "# the thing that will/would do a train-test split:\n",
    "from sklearn.model_selection import train_test_split"
   ]
  },
  {
   "cell_type": "code",
   "execution_count": 2,
   "id": "8b9a6dd9-1307-4ffd-89a6-cd2f241495f9",
   "metadata": {},
   "outputs": [],
   "source": [
    "from pydataset import data"
   ]
  },
  {
   "cell_type": "code",
   "execution_count": 3,
   "id": "a89ef015-8954-48ce-b2dd-b1536c428287",
   "metadata": {},
   "outputs": [],
   "source": [
    "# acquire iris\n",
    "iris = data('iris')"
   ]
  },
  {
   "cell_type": "code",
   "execution_count": 5,
   "id": "a323611a-7c91-453a-b01a-4b0c44211d4f",
   "metadata": {},
   "outputs": [
    {
     "data": {
      "text/html": [
       "<div>\n",
       "<style scoped>\n",
       "    .dataframe tbody tr th:only-of-type {\n",
       "        vertical-align: middle;\n",
       "    }\n",
       "\n",
       "    .dataframe tbody tr th {\n",
       "        vertical-align: top;\n",
       "    }\n",
       "\n",
       "    .dataframe thead th {\n",
       "        text-align: right;\n",
       "    }\n",
       "</style>\n",
       "<table border=\"1\" class=\"dataframe\">\n",
       "  <thead>\n",
       "    <tr style=\"text-align: right;\">\n",
       "      <th></th>\n",
       "      <th>Sepal.Length</th>\n",
       "      <th>Sepal.Width</th>\n",
       "      <th>Petal.Length</th>\n",
       "      <th>Petal.Width</th>\n",
       "      <th>Species</th>\n",
       "    </tr>\n",
       "  </thead>\n",
       "  <tbody>\n",
       "    <tr>\n",
       "      <th>1</th>\n",
       "      <td>5.1</td>\n",
       "      <td>3.5</td>\n",
       "      <td>1.4</td>\n",
       "      <td>0.2</td>\n",
       "      <td>setosa</td>\n",
       "    </tr>\n",
       "    <tr>\n",
       "      <th>2</th>\n",
       "      <td>4.9</td>\n",
       "      <td>3.0</td>\n",
       "      <td>1.4</td>\n",
       "      <td>0.2</td>\n",
       "      <td>setosa</td>\n",
       "    </tr>\n",
       "    <tr>\n",
       "      <th>3</th>\n",
       "      <td>4.7</td>\n",
       "      <td>3.2</td>\n",
       "      <td>1.3</td>\n",
       "      <td>0.2</td>\n",
       "      <td>setosa</td>\n",
       "    </tr>\n",
       "    <tr>\n",
       "      <th>4</th>\n",
       "      <td>4.6</td>\n",
       "      <td>3.1</td>\n",
       "      <td>1.5</td>\n",
       "      <td>0.2</td>\n",
       "      <td>setosa</td>\n",
       "    </tr>\n",
       "    <tr>\n",
       "      <th>5</th>\n",
       "      <td>5.0</td>\n",
       "      <td>3.6</td>\n",
       "      <td>1.4</td>\n",
       "      <td>0.2</td>\n",
       "      <td>setosa</td>\n",
       "    </tr>\n",
       "  </tbody>\n",
       "</table>\n",
       "</div>"
      ],
      "text/plain": [
       "   Sepal.Length  Sepal.Width  Petal.Length  Petal.Width Species\n",
       "1           5.1          3.5           1.4          0.2  setosa\n",
       "2           4.9          3.0           1.4          0.2  setosa\n",
       "3           4.7          3.2           1.3          0.2  setosa\n",
       "4           4.6          3.1           1.5          0.2  setosa\n",
       "5           5.0          3.6           1.4          0.2  setosa"
      ]
     },
     "execution_count": 5,
     "metadata": {},
     "output_type": "execute_result"
    }
   ],
   "source": [
    "iris.head()"
   ]
  },
  {
   "cell_type": "code",
   "execution_count": 6,
   "id": "6269d4f3-1ea4-4255-bc5b-f10acf1f81b5",
   "metadata": {},
   "outputs": [
    {
     "name": "stdout",
     "output_type": "stream",
     "text": [
      "<class 'pandas.core.frame.DataFrame'>\n",
      "Int64Index: 150 entries, 1 to 150\n",
      "Data columns (total 5 columns):\n",
      " #   Column        Non-Null Count  Dtype  \n",
      "---  ------        --------------  -----  \n",
      " 0   Sepal.Length  150 non-null    float64\n",
      " 1   Sepal.Width   150 non-null    float64\n",
      " 2   Petal.Length  150 non-null    float64\n",
      " 3   Petal.Width   150 non-null    float64\n",
      " 4   Species       150 non-null    object \n",
      "dtypes: float64(4), object(1)\n",
      "memory usage: 7.0+ KB\n"
     ]
    }
   ],
   "source": [
    "iris.info()"
   ]
  },
  {
   "cell_type": "code",
   "execution_count": 7,
   "id": "fcd7c4ce-89a5-4aec-8e71-51471bf0bc99",
   "metadata": {},
   "outputs": [],
   "source": [
    "# basic data prep: change column names\n",
    "iris.columns = [col.lower().replace('.','_') for col in iris.columns]"
   ]
  },
  {
   "cell_type": "code",
   "execution_count": 8,
   "id": "0b26f628-4102-4ccf-a42c-c9dbd1a5a0f7",
   "metadata": {},
   "outputs": [
    {
     "data": {
      "text/plain": [
       "Index(['sepal_length', 'sepal_width', 'petal_length', 'petal_width',\n",
       "       'species'],\n",
       "      dtype='object')"
      ]
     },
     "execution_count": 8,
     "metadata": {},
     "output_type": "execute_result"
    }
   ],
   "source": [
    "iris.columns"
   ]
  },
  {
   "cell_type": "markdown",
   "id": "95b1995e-4bae-4094-930d-381f7c3e061e",
   "metadata": {},
   "source": [
    "### Proposition:\n",
    " - Oops I lost all the labels and tbh I dont really know what an iris is let alone that there are different types\n",
    " \n",
    " - I work for a botanist and cant let them know that I dont know what the heck Im doing"
   ]
  },
  {
   "cell_type": "code",
   "execution_count": 9,
   "id": "f11cd49e-b164-47b2-9882-ed3af903a2e9",
   "metadata": {},
   "outputs": [],
   "source": [
    "oops = iris.drop(columns='species')"
   ]
  },
  {
   "cell_type": "code",
   "execution_count": 11,
   "id": "6207dea7-9a5c-4cdb-8bbe-b4b7c7b884b2",
   "metadata": {},
   "outputs": [
    {
     "data": {
      "text/html": [
       "<div>\n",
       "<style scoped>\n",
       "    .dataframe tbody tr th:only-of-type {\n",
       "        vertical-align: middle;\n",
       "    }\n",
       "\n",
       "    .dataframe tbody tr th {\n",
       "        vertical-align: top;\n",
       "    }\n",
       "\n",
       "    .dataframe thead th {\n",
       "        text-align: right;\n",
       "    }\n",
       "</style>\n",
       "<table border=\"1\" class=\"dataframe\">\n",
       "  <thead>\n",
       "    <tr style=\"text-align: right;\">\n",
       "      <th></th>\n",
       "      <th>sepal_length</th>\n",
       "      <th>sepal_width</th>\n",
       "      <th>petal_length</th>\n",
       "      <th>petal_width</th>\n",
       "    </tr>\n",
       "  </thead>\n",
       "  <tbody>\n",
       "    <tr>\n",
       "      <th>1</th>\n",
       "      <td>5.1</td>\n",
       "      <td>3.5</td>\n",
       "      <td>1.4</td>\n",
       "      <td>0.2</td>\n",
       "    </tr>\n",
       "    <tr>\n",
       "      <th>2</th>\n",
       "      <td>4.9</td>\n",
       "      <td>3.0</td>\n",
       "      <td>1.4</td>\n",
       "      <td>0.2</td>\n",
       "    </tr>\n",
       "    <tr>\n",
       "      <th>3</th>\n",
       "      <td>4.7</td>\n",
       "      <td>3.2</td>\n",
       "      <td>1.3</td>\n",
       "      <td>0.2</td>\n",
       "    </tr>\n",
       "    <tr>\n",
       "      <th>4</th>\n",
       "      <td>4.6</td>\n",
       "      <td>3.1</td>\n",
       "      <td>1.5</td>\n",
       "      <td>0.2</td>\n",
       "    </tr>\n",
       "    <tr>\n",
       "      <th>5</th>\n",
       "      <td>5.0</td>\n",
       "      <td>3.6</td>\n",
       "      <td>1.4</td>\n",
       "      <td>0.2</td>\n",
       "    </tr>\n",
       "  </tbody>\n",
       "</table>\n",
       "</div>"
      ],
      "text/plain": [
       "   sepal_length  sepal_width  petal_length  petal_width\n",
       "1           5.1          3.5           1.4          0.2\n",
       "2           4.9          3.0           1.4          0.2\n",
       "3           4.7          3.2           1.3          0.2\n",
       "4           4.6          3.1           1.5          0.2\n",
       "5           5.0          3.6           1.4          0.2"
      ]
     },
     "execution_count": 11,
     "metadata": {},
     "output_type": "execute_result"
    }
   ],
   "source": [
    "oops.head()"
   ]
  },
  {
   "cell_type": "code",
   "execution_count": 14,
   "id": "ab595d5c-5674-4527-be11-435b57289e66",
   "metadata": {},
   "outputs": [
    {
     "data": {
      "image/png": "[encoded data removed]",
      "text/plain": [
       "<Figure size 1080x1080 with 1 Axes>"
      ]
     },
     "metadata": {
      "needs_background": "light"
     },
     "output_type": "display_data"
    }
   ],
   "source": [
    "plt.figure(figsize=(15,15))\n",
    "plt.scatter(oops.petal_length, oops.petal_width)\n",
    "plt.title('Petal length vs Petal Width')\n",
    "plt.show()"
   ]
  },
  {
   "cell_type": "code",
   "execution_count": 15,
   "id": "f8ab74ba-c3b1-447b-8400-7e805c8a1b4e",
   "metadata": {},
   "outputs": [],
   "source": [
    "# create a kmeans model:\n",
    "# scale the data\n",
    "# feed the scaled data into kmeans object\n",
    "# use the kmeans object to predict"
   ]
  },
  {
   "cell_type": "code",
   "execution_count": 20,
   "id": "fa06d4eb-c839-49e3-bdff-86240127c74a",
   "metadata": {},
   "outputs": [],
   "source": [
    "# I want to scale on petal length and petal width\n",
    "feats_to_scale = ['petal_length', 'petal_width']"
   ]
  },
  {
   "cell_type": "code",
   "execution_count": 23,
   "id": "dba485df-0339-4271-9480-51b0a1774c9b",
   "metadata": {},
   "outputs": [],
   "source": [
    "# I define new column names\n",
    "# based on the ones I know I'm scaling on\n",
    "# concatenated with the suffix '_scaled'\n",
    "cols_scaled = [col + '_scaled' for col in feats_to_scale]"
   ]
  },
  {
   "cell_type": "code",
   "execution_count": 24,
   "id": "c6f00a0e-2176-44d2-bdf5-8601a0b58b3f",
   "metadata": {},
   "outputs": [],
   "source": [
    "# I assign out new columns\n",
    "# based on tranformed (scaled) versions of their previous\n",
    "# selves\n",
    "oops[cols_scaled] = MinMaxScaler(\n",
    ").fit_transform(oops[feats_to_scale])"
   ]
  },
  {
   "cell_type": "code",
   "execution_count": 25,
   "id": "16e4b7e1-cf06-43b0-8de9-5b6c03b2a03d",
   "metadata": {},
   "outputs": [
    {
     "data": {
      "text/html": [
       "<div>\n",
       "<style scoped>\n",
       "    .dataframe tbody tr th:only-of-type {\n",
       "        vertical-align: middle;\n",
       "    }\n",
       "\n",
       "    .dataframe tbody tr th {\n",
       "        vertical-align: top;\n",
       "    }\n",
       "\n",
       "    .dataframe thead th {\n",
       "        text-align: right;\n",
       "    }\n",
       "</style>\n",
       "<table border=\"1\" class=\"dataframe\">\n",
       "  <thead>\n",
       "    <tr style=\"text-align: right;\">\n",
       "      <th></th>\n",
       "      <th>sepal_length</th>\n",
       "      <th>sepal_width</th>\n",
       "      <th>petal_length</th>\n",
       "      <th>petal_width</th>\n",
       "      <th>petal_length_scaled</th>\n",
       "      <th>petal_width_scaled</th>\n",
       "    </tr>\n",
       "  </thead>\n",
       "  <tbody>\n",
       "    <tr>\n",
       "      <th>1</th>\n",
       "      <td>5.1</td>\n",
       "      <td>3.5</td>\n",
       "      <td>1.4</td>\n",
       "      <td>0.2</td>\n",
       "      <td>0.067797</td>\n",
       "      <td>0.041667</td>\n",
       "    </tr>\n",
       "    <tr>\n",
       "      <th>2</th>\n",
       "      <td>4.9</td>\n",
       "      <td>3.0</td>\n",
       "      <td>1.4</td>\n",
       "      <td>0.2</td>\n",
       "      <td>0.067797</td>\n",
       "      <td>0.041667</td>\n",
       "    </tr>\n",
       "    <tr>\n",
       "      <th>3</th>\n",
       "      <td>4.7</td>\n",
       "      <td>3.2</td>\n",
       "      <td>1.3</td>\n",
       "      <td>0.2</td>\n",
       "      <td>0.050847</td>\n",
       "      <td>0.041667</td>\n",
       "    </tr>\n",
       "    <tr>\n",
       "      <th>4</th>\n",
       "      <td>4.6</td>\n",
       "      <td>3.1</td>\n",
       "      <td>1.5</td>\n",
       "      <td>0.2</td>\n",
       "      <td>0.084746</td>\n",
       "      <td>0.041667</td>\n",
       "    </tr>\n",
       "    <tr>\n",
       "      <th>5</th>\n",
       "      <td>5.0</td>\n",
       "      <td>3.6</td>\n",
       "      <td>1.4</td>\n",
       "      <td>0.2</td>\n",
       "      <td>0.067797</td>\n",
       "      <td>0.041667</td>\n",
       "    </tr>\n",
       "  </tbody>\n",
       "</table>\n",
       "</div>"
      ],
      "text/plain": [
       "   sepal_length  sepal_width  petal_length  petal_width  petal_length_scaled  \\\n",
       "1           5.1          3.5           1.4          0.2             0.067797   \n",
       "2           4.9          3.0           1.4          0.2             0.067797   \n",
       "3           4.7          3.2           1.3          0.2             0.050847   \n",
       "4           4.6          3.1           1.5          0.2             0.084746   \n",
       "5           5.0          3.6           1.4          0.2             0.067797   \n",
       "\n",
       "   petal_width_scaled  \n",
       "1            0.041667  \n",
       "2            0.041667  \n",
       "3            0.041667  \n",
       "4            0.041667  \n",
       "5            0.041667  "
      ]
     },
     "execution_count": 25,
     "metadata": {},
     "output_type": "execute_result"
    }
   ],
   "source": [
    "oops.head()"
   ]
  },
  {
   "cell_type": "code",
   "execution_count": 26,
   "id": "23850b60-2886-464d-b38c-72cef1010756",
   "metadata": {},
   "outputs": [
    {
     "data": {
      "image/png": "[encoded data removed]",
      "text/plain": [
       "<Figure size 1080x1080 with 1 Axes>"
      ]
     },
     "metadata": {
      "needs_background": "light"
     },
     "output_type": "display_data"
    }
   ],
   "source": [
    "# plot the scaled petal length and width\n",
    "plt.figure(figsize=(15,15))\n",
    "plt.scatter(oops.petal_length_scaled, \n",
    "            oops.petal_width_scaled)\n",
    "plt.title('Scatter plot of Scaled Petal Data')\n",
    "plt.show()"
   ]
  },
  {
   "cell_type": "code",
   "execution_count": 28,
   "id": "d60c7114-9986-4583-b456-f6df70e3afcf",
   "metadata": {},
   "outputs": [],
   "source": [
    "# we preprocessed! huzzah!\n",
    "# lets make a clustering object from sklearn\n",
    "# Make a thing! Thats my favorite!\n",
    "k_means_prototype = KMeans(n_clusters=3)\n",
    "# fit the thing!!!!\n",
    "k_means_prototype.fit(oops[cols_scaled])\n",
    "# use the thing\n",
    "clusters = k_means_prototype.predict(\n",
    "    oops[cols_scaled])"
   ]
  },
  {
   "cell_type": "code",
   "execution_count": 29,
   "id": "d765dae6-7284-47ad-8514-46bc4e37d1f1",
   "metadata": {},
   "outputs": [
    {
     "data": {
      "text/plain": [
       "array([0, 0, 0, 0, 0, 0, 0, 0, 0, 0, 0, 0, 0, 0, 0, 0, 0, 0, 0, 0, 0, 0,\n",
       "       0, 0, 0, 0, 0, 0, 0, 0, 0, 0, 0, 0, 0, 0, 0, 0, 0, 0, 0, 0, 0, 0,\n",
       "       0, 0, 0, 0, 0, 0, 2, 2, 2, 2, 2, 2, 2, 2, 2, 2, 2, 2, 2, 2, 2, 2,\n",
       "       2, 2, 2, 2, 1, 2, 2, 2, 2, 2, 2, 1, 2, 2, 2, 2, 2, 2, 2, 2, 2, 2,\n",
       "       2, 2, 2, 2, 2, 2, 2, 2, 2, 2, 2, 2, 1, 1, 1, 1, 1, 1, 2, 1, 1, 1,\n",
       "       1, 1, 1, 1, 1, 1, 1, 1, 1, 2, 1, 1, 1, 1, 1, 1, 1, 1, 1, 1, 1, 1,\n",
       "       1, 2, 2, 1, 1, 1, 1, 1, 1, 1, 1, 1, 1, 1, 1, 1, 1, 1], dtype=int32)"
      ]
     },
     "execution_count": 29,
     "metadata": {},
     "output_type": "execute_result"
    }
   ],
   "source": [
    "clusters"
   ]
  },
  {
   "cell_type": "code",
   "execution_count": 30,
   "id": "0844373e-1e75-421a-ae77-70d519413015",
   "metadata": {},
   "outputs": [],
   "source": [
    "oops['cluster_assigned'] = clusters"
   ]
  },
  {
   "cell_type": "code",
   "execution_count": 32,
   "id": "a3ead7a8-eb45-4454-a32b-726e4a84b8e6",
   "metadata": {},
   "outputs": [],
   "source": [
    "# oops.head()"
   ]
  },
  {
   "cell_type": "code",
   "execution_count": 33,
   "id": "3f7cec5e-b580-408c-b9c9-77dfbff4f5ca",
   "metadata": {},
   "outputs": [
    {
     "data": {
      "text/plain": [
       "2    52\n",
       "0    50\n",
       "1    48\n",
       "Name: cluster_assigned, dtype: int64"
      ]
     },
     "execution_count": 33,
     "metadata": {},
     "output_type": "execute_result"
    }
   ],
   "source": [
    "oops.cluster_assigned.value_counts()"
   ]
  },
  {
   "cell_type": "code",
   "execution_count": 34,
   "id": "7fdf5d9a-c446-4198-b411-e30c231a1d48",
   "metadata": {},
   "outputs": [
    {
     "data": {
      "text/plain": [
       "array([0, 2, 1], dtype=int32)"
      ]
     },
     "execution_count": 34,
     "metadata": {},
     "output_type": "execute_result"
    }
   ],
   "source": [
    "oops.cluster_assigned.unique()"
   ]
  },
  {
   "cell_type": "code",
   "execution_count": 45,
   "id": "24fbb11d-c864-46d7-85fd-b66dfc9f34cc",
   "metadata": {},
   "outputs": [
    {
     "data": {
      "image/png": "[encoded data removed]",
      "text/plain": [
       "<Figure size 864x864 with 1 Axes>"
      ]
     },
     "metadata": {
      "needs_background": "light"
     },
     "output_type": "display_data"
    }
   ],
   "source": [
    "plt.figure(figsize=(12,12))\n",
    "for cluster in oops.cluster_assigned.unique():\n",
    "    plt.scatter(oops[oops.cluster_assigned == cluster].petal_length,\n",
    "             oops[oops.cluster_assigned == cluster].petal_width,\n",
    "               label=cluster)\n",
    "plt.title('Clusters????')\n",
    "plt.legend()\n",
    "plt.show()"
   ]
  },
  {
   "cell_type": "code",
   "execution_count": 40,
   "id": "1ad6ed31-3b21-4dd7-88b3-ac3a8e48f3f6",
   "metadata": {},
   "outputs": [
    {
     "data": {
      "text/plain": [
       "<AxesSubplot:xlabel='petal_length', ylabel='petal_width'>"
      ]
     },
     "execution_count": 40,
     "metadata": {},
     "output_type": "execute_result"
    },
    {
     "data": {
      "image/png": "[encoded data removed]",
      "text/plain": [
       "<Figure size 432x288 with 1 Axes>"
      ]
     },
     "metadata": {
      "needs_background": "light"
     },
     "output_type": "display_data"
    }
   ],
   "source": [
    "sns.scatterplot(data=oops,\n",
    "                x='petal_length',\n",
    "                y='petal_width',\n",
    "                hue='cluster_assigned')"
   ]
  },
  {
   "cell_type": "code",
   "execution_count": 46,
   "id": "c06a47f6-c96e-44d4-b1d7-10be04bdcf19",
   "metadata": {},
   "outputs": [],
   "source": [
    "# let's put the real thing back in oops\n",
    "# and give ourselves a little assessment\n",
    "# of how well our clusters matched the species\n",
    "oops['species'] = iris.species"
   ]
  },
  {
   "cell_type": "code",
   "execution_count": 58,
   "id": "4a0e476e-7c13-4e6f-b395-b822f3d5e180",
   "metadata": {},
   "outputs": [
    {
     "name": "stdout",
     "output_type": "stream",
     "text": [
      "Type of first element: <class 'str'>, Type of second element: <class 'pandas.core.frame.DataFrame'>\n",
      "\n",
      "Type of first element: <class 'str'>, Type of second element: <class 'pandas.core.frame.DataFrame'>\n",
      "\n",
      "Type of first element: <class 'str'>, Type of second element: <class 'pandas.core.frame.DataFrame'>\n",
      "\n"
     ]
    },
    {
     "data": {
      "text/plain": [
       "[None, None, None]"
      ]
     },
     "execution_count": 58,
     "metadata": {},
     "output_type": "execute_result"
    }
   ],
   "source": [
    "# In a pandas groupby object,\n",
    "# i get a return of tuples associated\n",
    "# with the name of the thing I'm grouping by\n",
    "# and the dataframe associated with that subset\n",
    "# like setosa, and the data associated with setosa rows\n",
    "[print(\n",
    "    f'Type of first element: {type(thing[0])}, Type of second element: {type(thing[1])}\\n'\n",
    ") for thing in oops.groupby('species')]"
   ]
  },
  {
   "cell_type": "code",
   "execution_count": 65,
   "id": "7cc55e98-717f-4092-abce-9da22d2626b3",
   "metadata": {},
   "outputs": [
    {
     "data": {
      "image/png": "[encoded data removed]",
      "text/plain": [
       "<Figure size 1080x720 with 2 Axes>"
      ]
     },
     "metadata": {
      "needs_background": "light"
     },
     "output_type": "display_data"
    }
   ],
   "source": [
    "fig, axs = plt.subplots(1, 2, figsize=(15, 10))\n",
    "\n",
    "for species, subset in oops.groupby('species'):\n",
    "    axs[0].scatter(subset.petal_length,\n",
    "                   subset.petal_width,\n",
    "                   label=species)\n",
    "axs[0].legend()\n",
    "axs[0].set(title='Actual Species')\n",
    "\n",
    "for cluster in oops.cluster_assigned.unique():\n",
    "    axs[1].scatter(oops[oops.cluster_assigned == cluster].petal_length,\n",
    "             oops[oops.cluster_assigned == cluster].petal_width,\n",
    "               label=cluster)\n",
    "axs[1].legend()\n",
    "axs[1].set(title='Cluster Assignment')\n",
    "\n",
    "plt.show()"
   ]
  },
  {
   "cell_type": "code",
   "execution_count": 66,
   "id": "79aa39ea-f9d2-4ace-a45d-2c0fdc67c23d",
   "metadata": {},
   "outputs": [
    {
     "data": {
      "text/plain": [
       "1.701874688192097"
      ]
     },
     "execution_count": 66,
     "metadata": {},
     "output_type": "execute_result"
    }
   ],
   "source": [
    "k_means_prototype.inertia_"
   ]
  },
  {
   "cell_type": "code",
   "execution_count": 77,
   "id": "8b2dc286-074a-4b9b-846c-1902fa8a5b2c",
   "metadata": {},
   "outputs": [],
   "source": [
    "# dictionary comprehensions!!!\n",
    "# theyre convenient, I promise!\n",
    "{k: KMeans(k).fit(oops[cols_scaled]\n",
    "                 ).inertia_ for k in range(2,15)}\n",
    "# alternatively:\n",
    "my_kmeans_dict = {}\n",
    "for k in range(1,15):\n",
    "    my_kmeans_dict[k] = KMeans(k).fit(oops[cols_scaled]).inertia_"
   ]
  },
  {
   "cell_type": "code",
   "execution_count": 78,
   "id": "aeb119e6-bc91-4077-99cc-77d3a1e958f9",
   "metadata": {},
   "outputs": [
    {
     "data": {
      "image/png": "[encoded data removed]",
      "text/plain": [
       "<Figure size 864x864 with 1 Axes>"
      ]
     },
     "metadata": {
      "needs_background": "light"
     },
     "output_type": "display_data"
    }
   ],
   "source": [
    "plt.figure(figsize=(12,12))\n",
    "pd.Series(my_kmeans_dict).plot(marker='x')\n",
    "plt.title('Elbow! Elbow!')\n",
    "plt.show()"
   ]
  },
  {
   "cell_type": "markdown",
   "id": "bc07c0e1-4b53-4283-acec-371eafc302c7",
   "metadata": {},
   "source": [
    "> It appears that we have a leveling off of inertia beginning after k=3, so it looks like by sheer estimate of inertia that 3 is the best number of clusters to use.  With the hindsight of understanding our data, we know as it stands that 3 clusters is ideal.  However, in real life (and if we didnt know what the label was) we may say that 2 is the best number of clusters.  Its a judgement call and contingent on your specific use-case!!"
   ]
  },
  {
   "cell_type": "markdown",
   "id": "ec12f863-45fb-4337-9949-69bc04a94610",
   "metadata": {},
   "source": [
    "### Broad-Stroke takeaways:\n",
    " - If using clusters for leverage in supervised learning:\n",
    " - Ensure that we don't use our target variable for our fit on our Kmeans object\n",
    " - We would explore using the cluster to see if it draws reasonable outcomes for our target:\n",
    " i.e. Is my logerror mean lower in cluster 2 than cluster 3? (t-test opportunity)\n",
    " - we would fit the cluster on our training set and then use it as a preprocessing measure to predict based on the fit centroids to cascade out determinents for our validate and test sets"
   ]
  },
  {
   "cell_type": "markdown",
   "id": "0fa64a71-01f1-4058-a814-e7b6c807671e",
   "metadata": {},
   "source": [
    "### If using purely unsupervised:\n",
    " - What do you want to know about these groups???\n",
    " - What is the utility of your cluster(s)?\n",
    " - Use inertia and the elbow method to help determine this on a spacial level, but as with the rest of our knowledge of exploratory data analysis, use your best judgement and critical thinking in symphony with your knowlege that any one tactic (statistically, visually, ML-based) will never paint the entire picture!\n"
   ]
  },
  {
   "cell_type": "markdown",
   "id": "a66cd05b-7fc0-4323-828c-dd2b5e75be73",
   "metadata": {},
   "source": [
    "## Avoid:\n",
    "    - p-hacking\n",
    "    - simpson's paradox"
   ]
  },
  {
   "cell_type": "code",
   "execution_count": null,
   "id": "31cd463b-05de-43b4-ac06-7a6280c9dd07",
   "metadata": {},
   "outputs": [],
   "source": []
  }
 ],
 "metadata": {
  "kernelspec": {
   "display_name": "Python 3 (ipykernel)",
   "language": "python",
   "name": "python3"
  },
  "language_info": {
   "codemirror_mode": {
    "name": "ipython",
    "version": 3
   },
   "file_extension": ".py",
   "mimetype": "text/x-python",
   "name": "python",
   "nbconvert_exporter": "python",
   "pygments_lexer": "ipython3",
   "version": "3.9.13"
  }
 },
 "nbformat": 4,
 "nbformat_minor": 5
}
